{
  "nbformat": 4,
  "nbformat_minor": 0,
  "metadata": {
    "accelerator": "GPU",
    "colab": {
      "name": "Tarea2_LabProgra.ipynb",
      "provenance": [],
      "collapsed_sections": []
    },
    "kernelspec": {
      "display_name": "Python 3",
      "language": "python",
      "name": "python3"
    },
    "language_info": {
      "codemirror_mode": {
        "name": "ipython",
        "version": 3
      },
      "file_extension": ".py",
      "mimetype": "text/x-python",
      "name": "python",
      "nbconvert_exporter": "python",
      "pygments_lexer": "ipython3",
      "version": "3.8.8"
    },
    "toc": {
      "base_numbering": 1,
      "nav_menu": {},
      "number_sections": true,
      "sideBar": true,
      "skip_h1_title": true,
      "title_cell": "Table of Contents",
      "title_sidebar": "Contents",
      "toc_cell": false,
      "toc_position": {},
      "toc_section_display": true,
      "toc_window_display": true
    },
    "varInspector": {
      "cols": {
        "lenName": 16,
        "lenType": 16,
        "lenVar": 40
      },
      "kernels_config": {
        "python": {
          "delete_cmd_postfix": "",
          "delete_cmd_prefix": "del ",
          "library": "var_list.py",
          "varRefreshCmd": "print(var_dic_list())"
        },
        "r": {
          "delete_cmd_postfix": ") ",
          "delete_cmd_prefix": "rm(",
          "library": "var_list.r",
          "varRefreshCmd": "cat(var_dic_list()) "
        }
      },
      "types_to_exclude": [
        "module",
        "function",
        "builtin_function_or_method",
        "instance",
        "_Feature"
      ],
      "window_display": false
    }
  },
  "cells": [
    {
      "cell_type": "markdown",
      "metadata": {
        "id": "Z0tyIsliieNr"
      },
      "source": [
        "# Tarea 2 - Named Entity Recognition\n",
        "\n",
        "----------------------"
      ]
    },
    {
      "cell_type": "markdown",
      "metadata": {
        "ExecuteTime": {
          "end_time": "2020-06-22T15:21:15.416464Z",
          "start_time": "2020-06-22T15:21:15.411478Z"
        },
        "id": "X3QUWWoWaSE3"
      },
      "source": [
        "- **Nombre: Nelson Bruno Moreno Cabañas**\n",
        "\n",
        "- **Link de repositorio de GitHub:`https://github.com/Bruno-Moreno/LabProgra`** \n"
      ]
    },
    {
      "cell_type": "markdown",
      "metadata": {
        "id": "W_dxGEs3iiau"
      },
      "source": [
        "\n",
        "## Introducción a la tarea\n",
        "\n",
        "### Objetivo\n",
        "\n",
        "\n",
        "El objetivo de esta tarea es resolver una de las tasks mas importantes de Sequence Labelling: [Named Entity Recognition (NER)](http://www.cs.columbia.edu/~mcollins/cs4705-spring2019/slides/tagging.pdf). \n",
        "\n",
        "En particular, deberán participar, al igual que en la tarea anterior, en una competencia en donde deberán crear distintos modelos que apunten a resolver NER en español. Para esto, les proveeremos un dataset de NER de noticias etiquetadas en español mas este baseline en donde podrán comenzar a trabajar. \n",
        "\n",
        "Esperamos que (por lo menos) utilizen Redes Neuronales Recurrentes (RNN) para resolverla. Nuevamente, hay total libertad para utilizar software y los modelos que deseen, siempre y cuando estos no traigan los modelos ya implementados (como el caso de spacy).\n",
        "\n",
        "\n",
        "**¿Qué es Sequence Labelling?** \n",
        "\n",
        "En breves palabras, dada una secuencia de tokens (frase u oración) sequence labelling tiene por objetivo asignar una etiqueta a cada token de dicha secuencia.\n",
        "\n",
        "**Named Entity Recognition (NER)**\n",
        "\n",
        "Esta tarea consiste en localizar y clasificar los tokens de una oración que representen entidades nombradas. Es decir, tokens que simbolicen (1) **personas**, (2) **organizaciones**, (3) **lugares** y (4) **adjetivos, eventos y otras entidades que no entren en las categorías anteriores** deberán ser taggeados como (1) **PER**, (2) **ORG**, (3) **LOC** y (4) **MISC** respectivamente. Adicionalmente, dado que existen entidades representadas en más de un token (como La Serena), se utiliza la notación BIO como prefijo al tag: Beginning, Inside, Outside. Es decir, si encuentro una entidad, el primer token etiquetado será precedido por B, el segundo por I y los n restantes por I. Por otra parte, si el token no representa ninguna entidad nombrada, se representa por O. Un ejemplo de esto es:\n",
        "\n",
        "Por ejemplo:\n",
        "\n",
        "```\n",
        "Felipe B-PER\n",
        "Bravo I-PER\n",
        "es O\n",
        "el O\n",
        "profesor O\n",
        "de O\n",
        "PLN B-MISC\n",
        "de O\n",
        "la O\n",
        "Universidad B-ORG\n",
        "de I-ORG\n",
        "Chile I-ORG\n",
        ". O\n",
        "```\n",
        "\n",
        "Estos links son los más indicados para comenzar:\n",
        "\n",
        "-  [Tagging, and Hidden Markov Models ](http://www.cs.columbia.edu/~mcollins/cs4705-spring2019/slides/tagging.pdf) (slides by Michael Collins), [notes](http://www.cs.columbia.edu/~mcollins/hmms-spring2013.pdf), [video 1](https://youtu.be/-ngfOZz8yK0), [video 2](https://youtu.be/PLoLKQwkONw), [video 3](https://youtu.be/aaa5Qoi8Vco), [video 4](https://youtu.be/4pKWIDkF_6Y)       \n",
        "-  [Recurrent Neural Networks](slides/NLP-RNN.pdf) | [video 1](https://youtu.be/BmhjUkzz3nk), [video 2](https://youtu.be/z43YFR1iIvk), [video 3](https://youtu.be/7L5JxQdwNJk)\n",
        "\n",
        "\n",
        "Recuerden que todo el material se encuentra disponible en el [github del curso](https://github.com/dccuchile/CC6205)."
      ]
    },
    {
      "cell_type": "markdown",
      "metadata": {
        "id": "iWlfabmkaSE7"
      },
      "source": [
        "### Reglas de la tarea"
      ]
    },
    {
      "cell_type": "markdown",
      "metadata": {
        "ExecuteTime": {
          "end_time": "2020-06-22T15:33:49.808401Z",
          "start_time": "2020-06-22T15:33:49.798428Z"
        },
        "id": "3w9Dw4CSaSE8"
      },
      "source": [
        "Algunos detalles de la competencia:\n",
        "\n",
        "- Para que su tarea sea evaluada, deben participar en la competencia como también, enviar este notebook con su informe.\n",
        "- Para participar, deben registrarse en la competencia en Codalab en grupos de máximo 2 alumnos. Cada grupo debe tener un nombre de equipo. (¡Y deben reportarlo en su informe!)\n",
        "- Las métricas usadas serán Precisión, Recall y F1.\n",
        "- En esta tarea se recomienda usar GPU. Pueden ejecutar su tarea en colab (lo cual trae todo instalado) o pueden intentar correrlo en su computador. en este caso, deberá ser compatible con cuda y deberán instalar todo por su cuenta.\n",
        "- En total pueden hacer un **máximo de 4 envíos**.\n",
        "- Por favor, todas sus dudas haganlas en el hilo de U-cursos de la tarea. Los emails que lleguen al equipo docente serán remitidos a ese medio. Recuerden el ánimo colaborativo del curso!!\n",
        "- Estar top 5 en alguna métrica equivale a 1 punto extra en la nota final.\n"
      ]
    },
    {
      "cell_type": "markdown",
      "metadata": {
        "id": "V5BBxJWQaSE-"
      },
      "source": [
        "**Link a la competencia:  https://competitions.codalab.org/competitions/25302?secret_key=690406c7-b3b0-4092-8694-d08d7991ca94**"
      ]
    },
    {
      "cell_type": "markdown",
      "metadata": {
        "id": "9spX-Hkh8YJg"
      },
      "source": [
        "### Modelos\n",
        "\n",
        "La RNN del baseline adjunto a este notebook está programado en [`pytorch`](https://pytorch.org/) y contiene:\n",
        "\n",
        "- La carga los datasets, creación de batches de texto y padding. En resumen, carga los datos y los deja listo para entrenar la red.\n",
        "- La implementación básica de una red `LSTM` simple de solo un nivel y sin bi-direccionalidad. \n",
        "- La construcción un output para que lo puedan probar en la tarea en codelab.\n",
        "\n",
        "\n",
        "\n",
        "roponer algunos experimentos a hacer:\n",
        "(cambiar el batch size, dimensiones de las capas, cambiar el tipo de\n",
        "RNN, cambiar el optimizer, usar una CRF loss, usar embeddings\n",
        "pre-entrenados, usar BERT??). Quizás podemos sugerir usar algo como\n",
        "https://github.com/flairNLP/flair\n",
        "\n",
        "Se espera que ustedes experimenten con el baseline utilizando (pero no limitándose) estas sugerencias:\n",
        "\n",
        "*   Probar Early stopping\n",
        "*   Variar la cantidad de parámetros de la capa de embeddings.\n",
        "*   Variar la cantidad de capas RNN.\n",
        "*   Variar la cantidad de parámetros de las capas de RNN.\n",
        "*   Inicializar la capa de embeddings con modelos pre-entrenados. (word2vec, glove, conceptnet, etc...).[Guía breve aquí](https://github.com/dccuchile/spanish-word-embeddings), [Embeddings en español aquí](https://github.com/dccuchile/spanish-word-embeddings).\n",
        "*   Variar la cantidad de épocas de entrenamiento.\n",
        "*   Variar el optimizador, learning rate, batch size, usar CRF loss, etc...\n",
        "*   Probar bi-direccionalidad.\n",
        "*   Probar teacher forcing.\n",
        "*   Incluir dropout.\n",
        "*   Probar modelos de tipo GRU\n",
        "*   Probar Embedding Contextuales (les puede ser de utilidad [flair](https://github.com/flairNLP/flair))\n",
        "*   Probar modelos de transformers en español usando [Huggingface](https://github.com/huggingface/transformers)"
      ]
    },
    {
      "cell_type": "markdown",
      "metadata": {
        "id": "f7X2FruyaSFG"
      },
      "source": [
        "\n",
        "-----------------------------------------"
      ]
    },
    {
      "cell_type": "markdown",
      "metadata": {
        "ExecuteTime": {
          "end_time": "2020-06-22T15:44:52.175773Z",
          "start_time": "2020-06-22T15:44:52.172782Z"
        },
        "id": "uFM-wNt8aSFM"
      },
      "source": [
        "## Experimentos\n",
        "\n",
        "\n",
        "El código que les entregaremos servirá de baseline para luego implementar mejores modelos. \n",
        "En general, el código asociado a la carga de los datos, las funciones de entrenamiento, de evaluación y la predicción de los datos de la competencia no deberían cambiar. \n",
        "Solo deben preocuparse de cambiar la arquitectura del modelo, sus hiperparámetros y reportar, lo cual lo pueden hacer en las subsecciones *modelos*.\n",
        "\n"
      ]
    },
    {
      "cell_type": "markdown",
      "metadata": {
        "id": "LMgKjfYC_Go-"
      },
      "source": [
        "###  Carga de datos y Preprocesamiento\n",
        "\n",
        "Para cargar los datos y preprocesarlos usaremos la librería [`torchtext`](https://github.com/pytorch/text).\n",
        "En particular usaremos su módulo `data`, el cual según su documentación original provee: \n",
        "\n",
        "    - Ability to describe declaratively how to load a custom NLP dataset that's in a \"normal\" format\n",
        "    - Ability to define a preprocessing pipeline\n",
        "    - Batching, padding, and numericalizing (including building a vocabulary object)\n",
        "    - Wrapper for dataset splits (train, validation, test)\n",
        "\n",
        "\n",
        "El proceso será el siguiente: \n",
        "\n",
        "1. Descargar los datos desde github y examinarlos.\n",
        "2. Definir los campos (`fields`) que cargaremos desde los archivos.\n",
        "3. Cargar los datasets.\n",
        "4. Crear el vocabulario.\n",
        "\n"
      ]
    },
    {
      "cell_type": "code",
      "metadata": {
        "ExecuteTime": {
          "end_time": "2020-06-23T22:24:52.392908Z",
          "start_time": "2020-06-23T22:24:50.641641Z"
        },
        "id": "27csY87GaSFO",
        "scrolled": false,
        "colab": {
          "base_uri": "https://localhost:8080/"
        },
        "outputId": "b1dad4a0-53a0-44cf-8558-bd5d21217d62"
      },
      "source": [
        "# Instalar torchtext (en codalab) - Descomentar.\n",
        "!pip3 install --upgrade torchtext"
      ],
      "execution_count": null,
      "outputs": [
        {
          "output_type": "stream",
          "text": [
            "Requirement already up-to-date: torchtext in /usr/local/lib/python3.7/dist-packages (0.10.0)\n",
            "Requirement already satisfied, skipping upgrade: tqdm in /usr/local/lib/python3.7/dist-packages (from torchtext) (4.41.1)\n",
            "Requirement already satisfied, skipping upgrade: torch==1.9.0 in /usr/local/lib/python3.7/dist-packages (from torchtext) (1.9.0+cu102)\n",
            "Requirement already satisfied, skipping upgrade: numpy in /usr/local/lib/python3.7/dist-packages (from torchtext) (1.19.5)\n",
            "Requirement already satisfied, skipping upgrade: requests in /usr/local/lib/python3.7/dist-packages (from torchtext) (2.23.0)\n",
            "Requirement already satisfied, skipping upgrade: typing-extensions in /usr/local/lib/python3.7/dist-packages (from torch==1.9.0->torchtext) (3.7.4.3)\n",
            "Requirement already satisfied, skipping upgrade: chardet<4,>=3.0.2 in /usr/local/lib/python3.7/dist-packages (from requests->torchtext) (3.0.4)\n",
            "Requirement already satisfied, skipping upgrade: urllib3!=1.25.0,!=1.25.1,<1.26,>=1.21.1 in /usr/local/lib/python3.7/dist-packages (from requests->torchtext) (1.24.3)\n",
            "Requirement already satisfied, skipping upgrade: idna<3,>=2.5 in /usr/local/lib/python3.7/dist-packages (from requests->torchtext) (2.10)\n",
            "Requirement already satisfied, skipping upgrade: certifi>=2017.4.17 in /usr/local/lib/python3.7/dist-packages (from requests->torchtext) (2021.5.30)\n"
          ],
          "name": "stdout"
        }
      ]
    },
    {
      "cell_type": "code",
      "metadata": {
        "ExecuteTime": {
          "end_time": "2020-06-23T22:24:53.086354Z",
          "start_time": "2020-06-23T22:24:52.394902Z"
        },
        "id": "ng7wRGEyawjM"
      },
      "source": [
        "import torch\n",
        "from torchtext.legacy import data, datasets\n",
        "\n",
        "\n",
        "# Garantizar reproducibilidad \n",
        "SEED = 1234\n",
        "torch.manual_seed(SEED)\n",
        "torch.backends.cudnn.deterministic = True"
      ],
      "execution_count": null,
      "outputs": []
    },
    {
      "cell_type": "markdown",
      "metadata": {
        "id": "BehSou6rCvwg"
      },
      "source": [
        "#### Obtener datos\n",
        "\n",
        "Descargamos los datos de entrenamiento, validación y prueba en nuestro directorio de trabajo"
      ]
    },
    {
      "cell_type": "code",
      "metadata": {
        "ExecuteTime": {
          "end_time": "2020-06-23T22:25:49.789218Z",
          "start_time": "2020-06-23T22:24:53.088871Z"
        },
        "id": "lbT0g_kC18Jb"
      },
      "source": [
        "%%capture\n",
        "!wget https://github.com/dccuchile/CC6205/releases/download/Data/train_NER_esp.txt -nc # Dataset de Entrenamiento\n",
        "!wget https://github.com/dccuchile/CC6205/releases/download/Data/val_NER_esp.txt -nc    # Dataset de Validación (Para probar y ajustar el modelo)\n",
        "!wget https://github.com/dccuchile/CC6205/releases/download/Data/test_NER_esp.txt -nc  # Dataset de la Competencia. Estos datos solo contienen los tokens. ¡¡SON LOS QUE DEBEN SER PREDICHOS!!"
      ],
      "execution_count": null,
      "outputs": []
    },
    {
      "cell_type": "markdown",
      "metadata": {
        "id": "uMud7YGMBZvg"
      },
      "source": [
        "####  Fields\n",
        "\n",
        "Un `field`:\n",
        "\n",
        "* Define un tipo de datos junto con instrucciones para convertir el texto a Tensor.\n",
        "* Contiene un objeto `Vocab` que contiene el vocabulario (palabras posibles que puede tomar ese campo).\n",
        "* Contiene otros parámetros relacionados con la forma en que se debe numericalizar un tipo de datos, como un método de tokenización y el tipo de Tensor que se debe producir.\n",
        "\n",
        "\n",
        "Analizemos el siguiente cuadro el cual contiene un ejemplo cualquiera de entrenamiento:\n",
        "\n",
        "\n",
        "```\n",
        "El O\n",
        "Abogado B-PER\n",
        "General I-PER\n",
        "del I-PER\n",
        "Estado I-PER\n",
        ", O\n",
        "Daryl B-PER\n",
        "Williams I-PER\n",
        "```\n",
        "\n",
        "Cada linea contiene una palabra y su clase. Para que `torchtext` pueda cargar estos datos, debemos definir como va a leer y separar los componentes de cada una de las lineas.\n",
        "Para esto, definiremos un field para cada uno de esos componentes: Las palabras (`TEXT`) y los NER_TAGS (`clase`).\n"
      ]
    },
    {
      "cell_type": "code",
      "metadata": {
        "ExecuteTime": {
          "end_time": "2020-06-23T22:25:49.795126Z",
          "start_time": "2020-06-23T22:25:49.791108Z"
        },
        "id": "3DcM_IjgCdzz"
      },
      "source": [
        "# Primer Field: TEXT. Representan los tokens de la secuencia\n",
        "TEXT = data.Field(lower=False) \n",
        "\n",
        "# Segundo Field: NER_TAGS. Representan los Tags asociados a cada palabra.\n",
        "NER_TAGS = data.Field(unk_token=None)\n",
        "\n",
        "fields = ((\"text\", TEXT), (\"nertags\", NER_TAGS))"
      ],
      "execution_count": null,
      "outputs": []
    },
    {
      "cell_type": "markdown",
      "metadata": {
        "id": "xCKTJOdgC5eC"
      },
      "source": [
        "####  SequenceTaggingDataset\n",
        "\n",
        "`SequenceTaggingDataset` es una clase de torchtext diseñada para contener datasets de sequence labelling. \n",
        "Los ejemplos que se guarden en una instancia de estos serán arreglos de palabras pareados con sus respectivos tags.\n",
        "Por ejemplo, para Part-of-speech tagging:\n",
        "\n",
        "[I, love, PyTorch, .] estará pareado con [PRON, VERB, PROPN, PUNCT]\n",
        "\n",
        "\n",
        "La idea es que usando los fields que definimos antes, le indiquemos a la clase cómo cargar los datasets de prueba, validación y test."
      ]
    },
    {
      "cell_type": "code",
      "metadata": {
        "ExecuteTime": {
          "end_time": "2020-06-23T22:25:50.294370Z",
          "start_time": "2020-06-23T22:25:49.797092Z"
        },
        "id": "HsHdGml62J21"
      },
      "source": [
        "train_data, valid_data, test_data = datasets.SequenceTaggingDataset.splits(\n",
        "    path=\"./\",\n",
        "    train=\"train_NER_esp.txt\",\n",
        "    validation=\"val_NER_esp.txt\",\n",
        "    test=\"test_NER_esp.txt\",\n",
        "    fields=fields,\n",
        "    encoding=\"iso-8859-1\",\n",
        "    separator=\" \"\n",
        ")"
      ],
      "execution_count": null,
      "outputs": []
    },
    {
      "cell_type": "code",
      "metadata": {
        "ExecuteTime": {
          "end_time": "2020-06-23T22:25:50.301354Z",
          "start_time": "2020-06-23T22:25:50.296368Z"
        },
        "id": "Hu7q3HCliia5",
        "colab": {
          "base_uri": "https://localhost:8080/"
        },
        "outputId": "d403dda4-d169-4e6d-b191-22d52d1111ad"
      },
      "source": [
        "print(f\"Numero de ejemplos de entrenamiento: {len(train_data)}\")\n",
        "print(f\"Número de ejemplos de validación: {len(valid_data)}\")\n",
        "print(f\"Número de ejemplos de test (competencia): {len(test_data)}\")"
      ],
      "execution_count": null,
      "outputs": [
        {
          "output_type": "stream",
          "text": [
            "Numero de ejemplos de entrenamiento: 8323\n",
            "Número de ejemplos de validación: 1915\n",
            "Número de ejemplos de test (competencia): 1517\n"
          ],
          "name": "stdout"
        }
      ]
    },
    {
      "cell_type": "markdown",
      "metadata": {
        "id": "fDRnhXAdFGL-"
      },
      "source": [
        "Visualizemos un ejemplo"
      ]
    },
    {
      "cell_type": "code",
      "metadata": {
        "ExecuteTime": {
          "end_time": "2020-06-23T22:25:50.317313Z",
          "start_time": "2020-06-23T22:25:50.303361Z"
        },
        "id": "T023Ld4RaSF4",
        "scrolled": false,
        "colab": {
          "base_uri": "https://localhost:8080/"
        },
        "outputId": "10f46194-df83-4b52-d0a4-0f1b9b4394fb"
      },
      "source": [
        "import random\n",
        "random_item_idx = random.randint(0, len(train_data))\n",
        "random_example = train_data.examples[random_item_idx]\n",
        "list(zip(random_example.text, random_example.nertags))"
      ],
      "execution_count": null,
      "outputs": [
        {
          "output_type": "execute_result",
          "data": {
            "text/plain": [
              "[('El', 'O'),\n",
              " ('desempleo', 'O'),\n",
              " ('ya', 'O'),\n",
              " ('había', 'O'),\n",
              " ('caído', 'O'),\n",
              " ('del', 'O'),\n",
              " ('8,2', 'O'),\n",
              " ('por', 'O'),\n",
              " ('ciento', 'O'),\n",
              " ('en', 'O'),\n",
              " ('febrero', 'O'),\n",
              " ('al', 'O'),\n",
              " ('8,1', 'O'),\n",
              " ('por', 'O'),\n",
              " ('ciento', 'O'),\n",
              " ('en', 'O'),\n",
              " ('marzo', 'O'),\n",
              " ('y', 'O'),\n",
              " ('el', 'O'),\n",
              " ('índice', 'O'),\n",
              " ('promedio', 'O'),\n",
              " ('en', 'O'),\n",
              " ('los', 'O'),\n",
              " ('primeros', 'O'),\n",
              " ('cuatro', 'O'),\n",
              " ('meses', 'O'),\n",
              " ('de', 'O'),\n",
              " ('este', 'O'),\n",
              " ('año', 'O'),\n",
              " ('permaneció', 'O'),\n",
              " ('estable', 'O'),\n",
              " ('en', 'O'),\n",
              " ('el', 'O'),\n",
              " ('7,9', 'O'),\n",
              " ('por', 'O'),\n",
              " ('ciento', 'O'),\n",
              " ('de', 'O'),\n",
              " ('la', 'O'),\n",
              " ('población', 'O'),\n",
              " ('económicamente', 'O'),\n",
              " ('activa', 'O'),\n",
              " (',', 'O'),\n",
              " ('el', 'O'),\n",
              " ('mismo', 'O'),\n",
              " ('nivel', 'O'),\n",
              " ('registrado', 'O'),\n",
              " ('en', 'O'),\n",
              " ('el', 'O'),\n",
              " ('primer', 'O'),\n",
              " ('cuatrimestre', 'O'),\n",
              " ('del', 'O'),\n",
              " ('año', 'O'),\n",
              " ('pasado', 'O'),\n",
              " ('.', 'O')]"
            ]
          },
          "metadata": {
            "tags": []
          },
          "execution_count": 63
        }
      ]
    },
    {
      "cell_type": "markdown",
      "metadata": {
        "id": "2l05KYy5FSUy"
      },
      "source": [
        "#### Construir los vocabularios para el texto y las etiquetas\n",
        "\n",
        "Los vocabularios son los objetos que contienen todos los tokens (de entrenamiento) posibles para ambos fields.\n",
        "El siguiente paso consiste en construirlos. Para esto, hacemos uso del método `Field.build_vocab` sobre cada uno de nuestros `fields`. "
      ]
    },
    {
      "cell_type": "code",
      "metadata": {
        "ExecuteTime": {
          "end_time": "2020-06-23T22:25:50.445968Z",
          "start_time": "2020-06-23T22:25:50.320305Z"
        },
        "id": "PBhp7WICiibL"
      },
      "source": [
        "TEXT.build_vocab(train_data)\n",
        "NER_TAGS.build_vocab(train_data)"
      ],
      "execution_count": null,
      "outputs": []
    },
    {
      "cell_type": "code",
      "metadata": {
        "ExecuteTime": {
          "end_time": "2020-06-23T22:25:50.453960Z",
          "start_time": "2020-06-23T22:25:50.448987Z"
        },
        "id": "M4OgUKM_iibO",
        "scrolled": true,
        "colab": {
          "base_uri": "https://localhost:8080/"
        },
        "outputId": "735d704c-33dd-4516-fa89-d6a0e04326d1"
      },
      "source": [
        "print(f\"Tokens únicos en TEXT: {len(TEXT.vocab)}\")\n",
        "print(f\"Tokens únicos en NER_TAGS: {len(NER_TAGS.vocab)}\")"
      ],
      "execution_count": null,
      "outputs": [
        {
          "output_type": "stream",
          "text": [
            "Tokens únicos en TEXT: 26101\n",
            "Tokens únicos en NER_TAGS: 10\n"
          ],
          "name": "stdout"
        }
      ]
    },
    {
      "cell_type": "code",
      "metadata": {
        "ExecuteTime": {
          "end_time": "2020-06-23T22:25:50.460965Z",
          "start_time": "2020-06-23T22:25:50.455942Z"
        },
        "id": "d4FeyL9nFnId",
        "colab": {
          "base_uri": "https://localhost:8080/"
        },
        "outputId": "1aff615c-1be1-4b44-effa-a49cbf898697"
      },
      "source": [
        "#Veamos las posibles etiquetas que hemos cargado:\n",
        "NER_TAGS.vocab.itos"
      ],
      "execution_count": null,
      "outputs": [
        {
          "output_type": "execute_result",
          "data": {
            "text/plain": [
              "['<pad>',\n",
              " 'O',\n",
              " 'B-ORG',\n",
              " 'I-ORG',\n",
              " 'B-LOC',\n",
              " 'B-PER',\n",
              " 'I-PER',\n",
              " 'I-MISC',\n",
              " 'B-MISC',\n",
              " 'I-LOC']"
            ]
          },
          "metadata": {
            "tags": []
          },
          "execution_count": 66
        }
      ]
    },
    {
      "cell_type": "markdown",
      "metadata": {
        "id": "HYQDoUqSHFKj"
      },
      "source": [
        "Observen que ademas de los tags NER, tenemos \\<pad\\>, el cual es generado por el dataloader para cumplir con el padding de cada oración.\n",
        "\n",
        "Veamos ahora los tokens mas frecuentes y especiales:"
      ]
    },
    {
      "cell_type": "code",
      "metadata": {
        "ExecuteTime": {
          "end_time": "2020-06-23T22:25:50.473893Z",
          "start_time": "2020-06-23T22:25:50.462923Z"
        },
        "id": "m5eSLm4diibR",
        "colab": {
          "base_uri": "https://localhost:8080/"
        },
        "outputId": "23845014-9eb5-476d-ebaf-efc68f702df3"
      },
      "source": [
        "# Tokens mas frecuentes\n",
        "TEXT.vocab.freqs.most_common(10)"
      ],
      "execution_count": null,
      "outputs": [
        {
          "output_type": "execute_result",
          "data": {
            "text/plain": [
              "[('de', 17657),\n",
              " (',', 14716),\n",
              " ('la', 9571),\n",
              " ('que', 7516),\n",
              " ('.', 7263),\n",
              " ('el', 6905),\n",
              " ('en', 6484),\n",
              " ('\"', 5691),\n",
              " ('y', 5336),\n",
              " ('a', 4304)]"
            ]
          },
          "metadata": {
            "tags": []
          },
          "execution_count": 67
        }
      ]
    },
    {
      "cell_type": "code",
      "metadata": {
        "ExecuteTime": {
          "end_time": "2020-06-23T22:25:50.479897Z",
          "start_time": "2020-06-23T22:25:50.475889Z"
        },
        "id": "B_f8b2EPljVJ"
      },
      "source": [
        "# Seteamos algunas variables que nos serán de utilidad mas adelante...\n",
        "UNK_IDX = TEXT.vocab.stoi[TEXT.unk_token]\n",
        "PAD_IDX = TEXT.vocab.stoi[TEXT.pad_token]\n",
        "\n",
        "PAD_TAG_IDX = NER_TAGS.vocab.stoi[NER_TAGS.pad_token]\n",
        "O_TAG_IDX = NER_TAGS.vocab.stoi['O']\n"
      ],
      "execution_count": null,
      "outputs": []
    },
    {
      "cell_type": "markdown",
      "metadata": {
        "id": "qrYvF3X0sjWL"
      },
      "source": [
        "#### Frecuencia de los Tags\n",
        "\n",
        "Visualizemos rápidamente las cantidades y frecuencias de cada tag:"
      ]
    },
    {
      "cell_type": "code",
      "metadata": {
        "ExecuteTime": {
          "end_time": "2020-06-23T22:25:50.490885Z",
          "start_time": "2020-06-23T22:25:50.481873Z"
        },
        "id": "tuXOsbJUiibh",
        "colab": {
          "base_uri": "https://localhost:8080/"
        },
        "outputId": "1b1ffc18-0e66-4cc1-9e3c-1de3e836050d"
      },
      "source": [
        "def tag_percentage(tag_counts):\n",
        "    \n",
        "    total_count = sum([count for tag, count in tag_counts])\n",
        "    tag_counts_percentages = [(tag, count, count/total_count) for tag, count in tag_counts]\n",
        "  \n",
        "    return tag_counts_percentages\n",
        "\n",
        "print(\"Tag Ocurrencia Porcentaje\\n\")\n",
        "\n",
        "for tag, count, percent in tag_percentage(NER_TAGS.vocab.freqs.most_common()):\n",
        "    print(f\"{tag}\\t{count}\\t{percent*100:4.1f}%\")"
      ],
      "execution_count": null,
      "outputs": [
        {
          "output_type": "stream",
          "text": [
            "Tag Ocurrencia Porcentaje\n",
            "\n",
            "O\t231920\t87.6%\n",
            "B-ORG\t7390\t 2.8%\n",
            "I-ORG\t4992\t 1.9%\n",
            "B-LOC\t4913\t 1.9%\n",
            "B-PER\t4321\t 1.6%\n",
            "I-PER\t3903\t 1.5%\n",
            "I-MISC\t3212\t 1.2%\n",
            "B-MISC\t2173\t 0.8%\n",
            "I-LOC\t1891\t 0.7%\n"
          ],
          "name": "stdout"
        }
      ]
    },
    {
      "cell_type": "markdown",
      "metadata": {
        "ExecuteTime": {
          "end_time": "2020-06-22T21:44:17.730460Z",
          "start_time": "2020-06-22T21:44:17.724482Z"
        },
        "id": "y4wPiydnaSGs"
      },
      "source": [
        "#### Configuramos pytorch y dividimos los datos.\n",
        "\n",
        "Importante: si tienes problemas con la ram de la gpu, disminuye el tamaño de los batches"
      ]
    },
    {
      "cell_type": "code",
      "metadata": {
        "ExecuteTime": {
          "end_time": "2020-06-23T22:25:51.101455Z",
          "start_time": "2020-06-23T22:25:50.492843Z"
        },
        "id": "uB7cwLWpaSGs",
        "colab": {
          "base_uri": "https://localhost:8080/"
        },
        "outputId": "6e301bdc-9e66-4894-91d6-d33d89999f51"
      },
      "source": [
        "BATCH_SIZE = 32  # disminuir si hay problemas de ram.\n",
        "\n",
        "# Usar cuda si es que está disponible.\n",
        "device = torch.device('cuda' if torch.cuda.is_available() else 'cpu')\n",
        "print('Using', device)\n",
        "\n",
        "# Dividir datos entre entrenamiento y test\n",
        "train_iterator, valid_iterator, test_iterator = data.BucketIterator.splits(\n",
        "    (train_data, valid_data, test_data),\n",
        "    batch_size=BATCH_SIZE,\n",
        "    device=device,\n",
        "    sort=False,\n",
        ")"
      ],
      "execution_count": null,
      "outputs": [
        {
          "output_type": "stream",
          "text": [
            "Using cuda\n"
          ],
          "name": "stdout"
        }
      ]
    },
    {
      "cell_type": "markdown",
      "metadata": {
        "id": "B21E1eAFId16"
      },
      "source": [
        "#### Métricas de evaluación\n",
        "\n",
        "Además, definiremos las métricas que serán usadas tanto para la competencia como para evaluar el modelo: `precision`, `recall` y `f1`.\n",
        "**Importante**: Noten que la evaluación solo se hace para las Named Entities (sin contar 'O')."
      ]
    },
    {
      "cell_type": "code",
      "metadata": {
        "ExecuteTime": {
          "end_time": "2020-06-23T22:25:51.654826Z",
          "start_time": "2020-06-23T22:25:51.103450Z"
        },
        "id": "9mUOOLEWiicU"
      },
      "source": [
        "# Definimos las métricas\n",
        "\n",
        "from sklearn.metrics import f1_score, precision_score, recall_score\n",
        "import warnings\n",
        "import sklearn.exceptions\n",
        "warnings.filterwarnings(\"ignore\",\n",
        "                        category=sklearn.exceptions.UndefinedMetricWarning)\n",
        "\n",
        "\n",
        "def calculate_metrics(preds, y_true, pad_idx=PAD_TAG_IDX, o_idx=O_TAG_IDX):\n",
        "    \"\"\"\n",
        "    Calcula precision, recall y f1 de cada batch.\n",
        "    \"\"\"\n",
        "\n",
        "    # Obtener el indice de la clase con probabilidad mayor. (clases)\n",
        "    y_pred = preds.argmax(dim=1, keepdim=True)\n",
        "    # Obtenemos los indices distintos de 0.\n",
        "\n",
        "    # filtramos <pad> y O para calcular los scores.\n",
        "    mask = [(y_true != o_idx) & (y_true != pad_idx)]\n",
        "    y_pred = y_pred[mask]\n",
        "    y_true = y_true[mask]\n",
        "\n",
        "    # traemos a la cpu\n",
        "    y_pred = y_pred.view(-1).to('cpu')\n",
        "    y_true = y_true.to('cpu')\n",
        "    \n",
        "    # calcular scores\n",
        "    f1 = f1_score(y_true, y_pred, average='macro')\n",
        "    precision = precision_score(y_true, y_pred, average='macro')\n",
        "    recall = recall_score(y_true, y_pred, average='macro')\n",
        "\n",
        "    return precision, recall, f1"
      ],
      "execution_count": null,
      "outputs": []
    },
    {
      "cell_type": "markdown",
      "metadata": {
        "id": "Hod516H1aSG2"
      },
      "source": [
        "-------------------\n",
        "\n",
        "### Modelo Baseline\n",
        "\n",
        "Teniendo ya cargado los datos, toca definir nuestro modelo. Este baseline tendrá una capa de embedding, unas cuantas LSTM y una capa de salida y usará dropout en el entrenamiento.\n",
        "\n",
        "Este constará de los siguientes pasos: \n",
        "\n",
        "1. Definir la clase que contendrá la red.\n",
        "2. Definir los hiperparámetros e inicializar la red. \n",
        "3. Definir la época de entrenamiento\n",
        "3. Definir la función de loss.\n",
        "\n",
        "\n",
        "\n",
        "Recomendamos que para experimentar, encapsules los modelos en una sola variable y luego la fijes en model para entrenarla"
      ]
    },
    {
      "cell_type": "code",
      "metadata": {
        "ExecuteTime": {
          "end_time": "2020-06-23T22:25:51.666751Z",
          "start_time": "2020-06-23T22:25:51.656778Z"
        },
        "id": "rMPL08XqaSG3"
      },
      "source": [
        "import torch.nn as nn\n",
        "import torch.nn.functional as F\n",
        "import torch.optim as optim\n",
        "\n",
        "\n",
        "# Definir la red\n",
        "class NER_RNN(nn.Module):\n",
        "    def __init__(self, \n",
        "                 input_dim, \n",
        "                 embedding_dim, \n",
        "                 hidden_dim, \n",
        "                 output_dim,\n",
        "                 n_layers, \n",
        "                 bidirectional, \n",
        "                 dropout, \n",
        "                 pad_idx):\n",
        "\n",
        "        super().__init__()\n",
        "\n",
        "        # Capa de embedding\n",
        "        self.embedding = nn.Embedding(input_dim,\n",
        "                                      embedding_dim,\n",
        "                                      padding_idx=pad_idx)\n",
        "\n",
        "        # Capa LSTM\n",
        "        self.lstm = nn.LSTM(embedding_dim,\n",
        "                           hidden_dim,\n",
        "                           num_layers=n_layers,\n",
        "                           bidirectional=bidirectional, \n",
        "                           dropout = dropout if n_layers > 1 else 0)\n",
        "\n",
        "        # Capa de salida\n",
        "        self.fc = nn.Linear(hidden_dim * 2 if bidirectional else hidden_dim,\n",
        "                            output_dim)\n",
        "\n",
        "        # Dropout\n",
        "        self.dropout = nn.Dropout(dropout)\n",
        "\n",
        "    def forward(self, text):\n",
        "\n",
        "        #text = [sent len, batch size]\n",
        "\n",
        "        # Convertir lo enviado a embedding\n",
        "        embedded = self.dropout(self.embedding(text))\n",
        "        \n",
        "        outputs, (hidden, cell) = self.lstm(embedded)\n",
        "        #embedded = [sent len, batch size, emb dim]\n",
        "\n",
        "        # Pasar los embeddings por la rnn (LSTM)\n",
        "\n",
        "        #output = [sent len, batch size, hid dim * n directions]\n",
        "        #hidden/cell = [n layers * n directions, batch size, hid dim]\n",
        "\n",
        "        # Predecir usando la capa de salida.\n",
        "        predictions = self.fc(self.dropout(outputs))\n",
        "        #predictions = [sent len, batch size, output dim]\n",
        "\n",
        "        return predictions"
      ],
      "execution_count": null,
      "outputs": []
    },
    {
      "cell_type": "markdown",
      "metadata": {
        "ExecuteTime": {
          "end_time": "2020-06-22T21:43:02.333880Z",
          "start_time": "2020-06-22T21:43:02.329861Z"
        },
        "id": "cCl3530VaSG7"
      },
      "source": [
        "#### Hiperparámetros de la red\n",
        "\n",
        "Definimos los hiperparámetros. "
      ]
    },
    {
      "cell_type": "code",
      "metadata": {
        "ExecuteTime": {
          "end_time": "2020-06-23T22:25:51.705684Z",
          "start_time": "2020-06-23T22:25:51.668746Z"
        },
        "id": "EHdi3QdOaSG8"
      },
      "source": [
        "# tamaño del vocabulario. recuerden que la entrada son vectores bag of word(one-hot).\n",
        "INPUT_DIM = len(TEXT.vocab)\n",
        "EMBEDDING_DIM = 100  # dimensión de los embeddings.\n",
        "HIDDEN_DIM = 128  # dimensión de la capas LSTM\n",
        "OUTPUT_DIM = len(NER_TAGS.vocab)  # número de clases\n",
        "\n",
        "N_LAYERS = 2  # número de capas.\n",
        "DROPOUT = 0.25\n",
        "BIDIRECTIONAL = False\n",
        "\n",
        "# Creamos nuestro modelo.\n",
        "baseline_model = NER_RNN(INPUT_DIM, EMBEDDING_DIM, HIDDEN_DIM, OUTPUT_DIM,\n",
        "                         N_LAYERS, BIDIRECTIONAL, DROPOUT, PAD_IDX)\n",
        "\n",
        "baseline_model_name = 'baseline'  # nombre que tendrá el modelo guardado..."
      ],
      "execution_count": null,
      "outputs": []
    },
    {
      "cell_type": "code",
      "metadata": {
        "ExecuteTime": {
          "end_time": "2020-06-23T22:25:51.710633Z",
          "start_time": "2020-06-23T22:25:51.706649Z"
        },
        "id": "jlF1DhJeaSHA"
      },
      "source": [
        "baseline_n_epochs = 10\n",
        "\n",
        "optimizer = optim.Adam(baseline_model.parameters())"
      ],
      "execution_count": null,
      "outputs": []
    },
    {
      "cell_type": "markdown",
      "metadata": {
        "id": "s3u4imJGaSHE"
      },
      "source": [
        "#### Definimos la función de loss"
      ]
    },
    {
      "cell_type": "code",
      "metadata": {
        "ExecuteTime": {
          "end_time": "2020-06-23T22:25:51.715637Z",
          "start_time": "2020-06-23T22:25:51.712628Z"
        },
        "id": "6G_4k99_aSHG"
      },
      "source": [
        "# Loss: Cross Entropy\n",
        "TAG_PAD_IDX = NER_TAGS.vocab.stoi[NER_TAGS.pad_token]\n",
        "baseline_criterion = nn.CrossEntropyLoss(ignore_index = TAG_PAD_IDX)"
      ],
      "execution_count": null,
      "outputs": []
    },
    {
      "cell_type": "markdown",
      "metadata": {
        "id": "lRYOEDiQaSHK"
      },
      "source": [
        "--------------------\n",
        "### Modelo 1\n",
        "\n",
        "En estas secciones pueden implementar nuevas redes al modificar los hiperparámetros, la cantidad de épocas de entrenamiento, el tamaño de los batches, loss, optimizador, etc... como también definir nuevas arquitecturas de red (mediante la creación de clases nuevas)\n",
        "\n",
        "\n",
        "Al final de estas, hay 4 variables, las cuales deben setear con los modelos, épocas de entrenamiento, loss y optimizador que deseen probar.\n"
      ]
    },
    {
      "cell_type": "code",
      "metadata": {
        "ExecuteTime": {
          "end_time": "2020-06-23T22:25:51.722604Z",
          "start_time": "2020-06-23T22:25:51.717615Z"
        },
        "id": "c81f8ki5aSHL"
      },
      "source": [
        "#En este modelo, cambiaremos unicamente la cantidad de parámetros\n",
        "\n",
        "# tamaño del vocabulario. recuerden que la entrada son vectores bag of word(one-hot).\n",
        "INPUT_DIM = len(TEXT.vocab)\n",
        "EMBEDDING_DIM = 300  # dimensión de los embeddings.\n",
        "HIDDEN_DIM = 256  # dimensión de la capas LSTM  - La cambiamos de 128 -> 256\n",
        "OUTPUT_DIM = len(NER_TAGS.vocab)  # número de clases\n",
        "\n",
        "N_LAYERS = 3  # número de capas. - La cambiamos de 2 -> 10\n",
        "DROPOUT = 0.25 #Lo cambiamos de 0.25 -> 0.4\n",
        "BIDIRECTIONAL = True\n",
        "\n",
        "model_1 = NER_RNN(INPUT_DIM, EMBEDDING_DIM, HIDDEN_DIM, OUTPUT_DIM,\n",
        "                         N_LAYERS, BIDIRECTIONAL, DROPOUT, PAD_IDX)\n",
        "\n",
        "model_name_1 = 'Modelo 1'\n",
        "n_epochs_1 = 15  \n",
        "\n",
        "# Loss: Cross Entropy\n",
        "\n",
        "TAG_PAD_IDX = NER_TAGS.vocab.stoi[NER_TAGS.pad_token]\n",
        "loss_1 = nn.CrossEntropyLoss(ignore_index = TAG_PAD_IDX)\n",
        "\n",
        "# Optimizador\n",
        "optimizer_1 = optim.Adam(model_1.parameters(),lr=0.0005)\n"
      ],
      "execution_count": null,
      "outputs": []
    },
    {
      "cell_type": "markdown",
      "metadata": {
        "id": "rV9oLkN1aSHO"
      },
      "source": [
        "---------------\n",
        "\n",
        "### Modelo 2\n",
        "\n",
        "En este modelo, utilizaremos una unidad GRU en vez de una LSTM (ambas bidireccionales)"
      ]
    },
    {
      "cell_type": "code",
      "metadata": {
        "id": "lZ08Cb5qrlm3"
      },
      "source": [
        "class NER_RRN_GRU(nn.Module):\n",
        "    def __init__(self, \n",
        "                 input_dim, \n",
        "                 embedding_dim, \n",
        "                 hidden_dim, \n",
        "                 output_dim,\n",
        "                 n_layers, \n",
        "                 bidirectional, \n",
        "                 dropout, \n",
        "                 pad_idx):\n",
        "\n",
        "        super().__init__()\n",
        "\n",
        "        # Capa de embedding\n",
        "        \n",
        "        self.embedding = nn.Embedding(input_dim,\n",
        "                                      embedding_dim,\n",
        "                                      padding_idx=pad_idx)\n",
        "\n",
        "        # Capa GRU\n",
        "        self.GRU = nn.GRU(embedding_dim,\n",
        "                           hidden_dim,\n",
        "                           num_layers=n_layers,\n",
        "                           bidirectional=bidirectional, \n",
        "                           dropout = dropout if n_layers > 1 else 0)\n",
        "\n",
        "  \n",
        "        # Capa de salida\n",
        "        self.fc = nn.Linear(hidden_dim * 2 if bidirectional else hidden_dim,\n",
        "                            output_dim)\n",
        "\n",
        "        # Dropout\n",
        "        self.dropout = nn.Dropout(dropout)\n",
        "\n",
        "    def forward(self, text):\n",
        "\n",
        "        #text = [sent len, batch size]\n",
        "\n",
        "        # Convertir lo enviado a embedding\n",
        "        embedded = self.dropout(self.embedding(text))\n",
        "        \n",
        "        outputs, algo = self.GRU(embedded)\n",
        "        #embedded = [sent len, batch size, emb dim]\n",
        "\n",
        "        # Pasar los embeddings por la rnn (LSTM)\n",
        "\n",
        "        #output = [sent len, batch size, hid dim * n directions]\n",
        "        #hidden/cell = [n layers * n directions, batch size, hid dim]\n",
        "\n",
        "        # Predecir usando la capa de salida.\n",
        "        predictions = self.fc(self.dropout(outputs))\n",
        "        #predictions = [sent len, batch size, output dim]\n",
        "\n",
        "        return predictions"
      ],
      "execution_count": null,
      "outputs": []
    },
    {
      "cell_type": "code",
      "metadata": {
        "ExecuteTime": {
          "end_time": "2020-06-23T22:25:51.728587Z",
          "start_time": "2020-06-23T22:25:51.724596Z"
        },
        "id": "KWPzETaNaSHP"
      },
      "source": [
        "#En este modelo cambiaremos el optimizador, probaremos bidireccional, \n",
        "\n",
        "#En este modelo, cambiaremos unicamente la cantidad de parámetros\n",
        "\n",
        "# tamaño del vocabulario. recuerden que la entrada son vectores bag of word(one-hot).\n",
        "INPUT_DIM = len(TEXT.vocab)\n",
        "EMBEDDING_DIM = 300  # dimensión de los embeddings.\n",
        "HIDDEN_DIM = 256  # dimensión de la capas LSTM  - La cambiamos de 128 -> 64\n",
        "OUTPUT_DIM = len(NER_TAGS.vocab)  # número de clases\n",
        "\n",
        "N_LAYERS = 5  # número de capas. - La cambiamos de 2 -> 13\n",
        "DROPOUT = 0.4 #Lo cambiamos de 0.25 -> 0.2\n",
        "BIDIRECTIONAL = True\n",
        "\n",
        "model_2 = NER_RRN_GRU(INPUT_DIM, EMBEDDING_DIM, HIDDEN_DIM, OUTPUT_DIM,\n",
        "                         N_LAYERS, BIDIRECTIONAL, DROPOUT, PAD_IDX)\n",
        "\n",
        "model_name_2 = 'Modelo 2'\n",
        "n_epochs_2 = 10 \n",
        "\n",
        "# Loss: Cross Entropy\n",
        "\n",
        "TAG_PAD_IDX = NER_TAGS.vocab.stoi[NER_TAGS.pad_token]\n",
        "loss_2 = nn.CrossEntropyLoss(ignore_index = TAG_PAD_IDX)\n",
        "\n",
        "# Optimizador\n",
        "optimizer_2 = optim.AdamW(model_2.parameters())  \n"
      ],
      "execution_count": null,
      "outputs": []
    },
    {
      "cell_type": "markdown",
      "metadata": {
        "ExecuteTime": {
          "end_time": "2020-06-22T16:07:45.755561Z",
          "start_time": "2020-06-22T16:07:45.751571Z"
        },
        "id": "Zpy3p7YaaSHT"
      },
      "source": [
        "\n",
        "---------------\n",
        "\n",
        "\n",
        "### Modelo 3\n",
        "\n",
        "Cambiaremos algunos parámetros, cantidad de capas e incluso el optimizador utilizado."
      ]
    },
    {
      "cell_type": "code",
      "metadata": {
        "ExecuteTime": {
          "end_time": "2020-06-23T22:25:51.733572Z",
          "start_time": "2020-06-23T22:25:51.730580Z"
        },
        "id": "_w0CFjA8aSHU"
      },
      "source": [
        "#En este modelo cambiaremos el optimizador, probaremos bidireccional, \n",
        "\n",
        "#En este modelo, cambiaremos unicamente la cantidad de parámetros\n",
        "\n",
        "# tamaño del vocabulario. recuerden que la entrada son vectores bag of word(one-hot).\n",
        "INPUT_DIM = len(TEXT.vocab)\n",
        "EMBEDDING_DIM = 300  # dimensión de los embeddings.\n",
        "HIDDEN_DIM = 256  # dimensión de la capas LSTM  - La cambiamos de 128 -> 64\n",
        "OUTPUT_DIM = len(NER_TAGS.vocab)  # número de clases\n",
        "\n",
        "N_LAYERS = 3  # número de capas. - La cambiamos de 2 -> 10\n",
        "DROPOUT = 0.25 #Lo cambiamos de 0.25 -> 0.2\n",
        "BIDIRECTIONAL = True\n",
        "\n",
        "model_3 = NER_RNN(INPUT_DIM, EMBEDDING_DIM, HIDDEN_DIM, OUTPUT_DIM,\n",
        "                         N_LAYERS, BIDIRECTIONAL, DROPOUT, PAD_IDX)\n",
        "\n",
        "model_name_3 = 'Modelo 3'\n",
        "n_epochs_3 = 10 \n",
        "\n",
        "# Loss: Cross Entropy\n",
        "\n",
        "TAG_PAD_IDX = NER_TAGS.vocab.stoi[NER_TAGS.pad_token]\n",
        "loss_3 = nn.CrossEntropyLoss(ignore_index = TAG_PAD_IDX)\n",
        "\n",
        "# Optimizador\n",
        "optimizer_3 = optim.Adam(model_3.parameters())"
      ],
      "execution_count": null,
      "outputs": []
    },
    {
      "cell_type": "markdown",
      "metadata": {
        "id": "f8eRlFWvviwQ"
      },
      "source": [
        "### Modelo 4\n",
        "\n",
        "En este utilizaremos un embedding pre entrenado que se puede obtener en el siguiente link"
      ]
    },
    {
      "cell_type": "code",
      "metadata": {
        "colab": {
          "base_uri": "https://localhost:8080/"
        },
        "id": "rH9EdUdtscfZ",
        "outputId": "3c7ab989-4d1e-4b01-e282-5476eefada18"
      },
      "source": [
        "!wget -q http://dcc.uchile.cl/~jperez/word-embeddings/fasttext-sbwc.100k.vec.gz\n",
        "  \n",
        "!gzip -d -q fasttext-sbwc.100k.vec.gz\n",
        "\n",
        "!pip -q install gensim"
      ],
      "execution_count": null,
      "outputs": [
        {
          "output_type": "stream",
          "text": [
            "^C\n",
            "gzip: fasttext-sbwc.100k.vec.gz: No such file or directory\n"
          ],
          "name": "stdout"
        }
      ]
    },
    {
      "cell_type": "code",
      "metadata": {
        "id": "nO1RlXoCu4y7"
      },
      "source": [
        "from gensim.models import KeyedVectors\n",
        "we = KeyedVectors.load_word2vec_format('/content/fasttext-sbwc.100k.vec', limit=100000) \n",
        "weights = torch.FloatTensor(we.vectors)[0:26101,:]\n",
        "#weights = torch.FloatTensor(we.vectors)"
      ],
      "execution_count": null,
      "outputs": []
    },
    {
      "cell_type": "code",
      "metadata": {
        "id": "XajUpp9ZhJ92"
      },
      "source": [
        "# Definir una red de prueba\n",
        "class NER_RRN_v2(nn.Module):\n",
        "    def __init__(self, \n",
        "                 input_dim, \n",
        "                 embedding_dim, \n",
        "                 hidden_dim, \n",
        "                 output_dim,\n",
        "                 n_layers, \n",
        "                 bidirectional, \n",
        "                 dropout, \n",
        "                 pad_idx):\n",
        "\n",
        "        super().__init__()\n",
        "\n",
        "        # Capa de embedding\n",
        "        \n",
        "        self.embedding = nn.Embedding.from_pretrained(weights,freeze=False)\n",
        "\n",
        "        # Capa LSTM\n",
        "        self.lstm = nn.LSTM(embedding_dim,\n",
        "                           hidden_dim,\n",
        "                           num_layers=n_layers,\n",
        "                           bidirectional=bidirectional, \n",
        "                           dropout = dropout if n_layers > 1 else 0)\n",
        "\n",
        "        # Capa de salida\n",
        "        self.fc = nn.Linear(hidden_dim * 2 if bidirectional else hidden_dim,\n",
        "                            output_dim)\n",
        "\n",
        "        # Dropout\n",
        "        self.dropout = nn.Dropout(dropout)\n",
        "\n",
        "    def forward(self, text):\n",
        "\n",
        "        #text = [sent len, batch size]\n",
        "\n",
        "        # Convertir lo enviado a embedding\n",
        "        embedded = self.dropout(self.embedding(text))\n",
        "        \n",
        "        outputs, (hidden, cell) = self.lstm(embedded)\n",
        "        #embedded = [sent len, batch size, emb dim]\n",
        "\n",
        "        # Pasar los embeddings por la rnn (LSTM)\n",
        "\n",
        "        #output = [sent len, batch size, hid dim * n directions]\n",
        "        #hidden/cell = [n layers * n directions, batch size, hid dim]\n",
        "\n",
        "        # Predecir usando la capa de salida.\n",
        "        predictions = self.fc(self.dropout(outputs))\n",
        "        #predictions = [sent len, batch size, output dim]\n",
        "\n",
        "        return predictions"
      ],
      "execution_count": null,
      "outputs": []
    },
    {
      "cell_type": "code",
      "metadata": {
        "id": "GQP5SB9ivgxb"
      },
      "source": [
        "#En este modelo cambiaremos el optimizador, probaremos bidireccional, \n",
        "\n",
        "#En este modelo, cambiaremos unicamente la cantidad de parámetros\n",
        "\n",
        "# tamaño del vocabulario. recuerden que la entrada son vectores bag of word(one-hot).\n",
        "INPUT_DIM = len(TEXT.vocab)\n",
        "EMBEDDING_DIM = 300  # 300 por el que esta pre-entrenado\n",
        "HIDDEN_DIM = 512  # dimensión de la capas LSTM  - La cambiamos de 128 -> 64\n",
        "OUTPUT_DIM = len(NER_TAGS.vocab)  # número de clases\n",
        "\n",
        "N_LAYERS = 3  # número de capas. - La cambiamos de 2 -> 10\n",
        "DROPOUT = 0.4 #Lo cambiamos de 0.25 -> 0.2\n",
        "BIDIRECTIONAL = True\n",
        "\n",
        "model_4 = NER_RRN_v2(INPUT_DIM, EMBEDDING_DIM, HIDDEN_DIM, OUTPUT_DIM,\n",
        "                         N_LAYERS, BIDIRECTIONAL, DROPOUT, PAD_IDX)\n",
        "\n",
        "model_name_4 = 'Modelo 4'\n",
        "n_epochs_4 = 10 \n",
        "\n",
        "# Loss: Cross Entropy\n",
        "\n",
        "TAG_PAD_IDX = NER_TAGS.vocab.stoi[NER_TAGS.pad_token]\n",
        "loss_4 = nn.CrossEntropyLoss(ignore_index = TAG_PAD_IDX)\n",
        "\n",
        "# Optimizador\n",
        "optimizer_4 = optim.Adam(model_4.parameters())\n"
      ],
      "execution_count": null,
      "outputs": []
    },
    {
      "cell_type": "markdown",
      "metadata": {
        "id": "aPGdirx7aSHZ"
      },
      "source": [
        "------\n",
        "### Entrenamos y evaluamos\n",
        "\n",
        "\n",
        "**Importante** : Fijen el modelo, el número de épocas de entrenamiento, la loss y el optimizador que usarán para entrenar y evaluar en las siguientes variables!!!"
      ]
    },
    {
      "cell_type": "code",
      "metadata": {
        "ExecuteTime": {
          "end_time": "2020-06-23T22:25:51.748571Z",
          "start_time": "2020-06-23T22:25:51.739556Z"
        },
        "id": "r8YlGnjxaSHZ",
        "colab": {
          "base_uri": "https://localhost:8080/",
          "height": 35
        },
        "outputId": "7977ddcd-7631-4830-d4aa-badb8f4df142"
      },
      "source": [
        "#Seteamos los parámetros\n",
        "'''\n",
        "model = baseline_model\n",
        "model_name = baseline_model_name\n",
        "criterion = baseline_criterion\n",
        "n_epochs = baseline_n_epochs\n",
        "'''\n",
        "\n",
        "model = model_1\n",
        "model_name = model_name_1\n",
        "criterion = loss_1\n",
        "n_epochs = n_epochs_1\n",
        "\n",
        "\n",
        "'''\n",
        "model = model_1\n",
        "model_name = model_name_1\n",
        "criterion = loss_1\n",
        "n_epochs = n_epochs_1\n",
        "'''\n",
        "\n",
        "'''\n",
        "model = model_3\n",
        "model_name = model_name_3\n",
        "criterion = loss_3\n",
        "n_epochs = n_epochs_3\n",
        "'''"
      ],
      "execution_count": null,
      "outputs": [
        {
          "output_type": "execute_result",
          "data": {
            "application/vnd.google.colaboratory.intrinsic+json": {
              "type": "string"
            },
            "text/plain": [
              "'\\nmodel = model_3\\nmodel_name = model_name_3\\ncriterion = loss_3\\nn_epochs = n_epochs_3\\n'"
            ]
          },
          "metadata": {
            "tags": []
          },
          "execution_count": 145
        }
      ]
    },
    {
      "cell_type": "markdown",
      "metadata": {
        "id": "Pu_lXic2aSHd"
      },
      "source": [
        "\n",
        "\n",
        "#### Inicializamos la red\n",
        "\n",
        "iniciamos los pesos de la red de forma aleatoria (Usando una distribución normal).\n"
      ]
    },
    {
      "cell_type": "code",
      "metadata": {
        "ExecuteTime": {
          "end_time": "2020-06-23T22:25:51.805380Z",
          "start_time": "2020-06-23T22:25:51.751524Z"
        },
        "id": "Q-G_NWFcaSHe"
      },
      "source": [
        "def init_weights(m):\n",
        "    # Inicializamos los pesos como aleatorios\n",
        "    for name, param in m.named_parameters():\n",
        "        nn.init.normal_(param.data, mean=0, std=0.1) \n",
        "        \n",
        "    # Seteamos como 0 los embeddings de UNK y PAD.\n",
        "    model.embedding.weight.data[UNK_IDX] = torch.zeros(EMBEDDING_DIM)\n",
        "    model.embedding.weight.data[PAD_IDX] = torch.zeros(EMBEDDING_DIM)\n",
        "        \n",
        "#model.apply(init_weights)"
      ],
      "execution_count": null,
      "outputs": []
    },
    {
      "cell_type": "code",
      "metadata": {
        "id": "SvXEslB_rcTo"
      },
      "source": [
        "def init_weights_v2(m):\n",
        "    # Inicializamos los pesos como aleatorios\n",
        "    for name, param in m.named_parameters():\n",
        "        if name != \"embedding.weight\":\n",
        "          nn.init.normal_(param.data, mean=0, std=0.1) \n",
        "      "
      ],
      "execution_count": null,
      "outputs": []
    },
    {
      "cell_type": "code",
      "metadata": {
        "ExecuteTime": {
          "end_time": "2020-06-23T22:25:51.812389Z",
          "start_time": "2020-06-23T22:25:51.806377Z"
        },
        "id": "mjWDX2CJaSHh",
        "colab": {
          "base_uri": "https://localhost:8080/"
        },
        "outputId": "0496246c-ac63-47ef-fe1b-89327128df7a"
      },
      "source": [
        "def count_parameters(model):\n",
        "    return sum(p.numel() for p in model.parameters() if p.requires_grad)\n",
        "print(f'El modelo actual tiene {count_parameters(model):,} parámetros entrenables.')"
      ],
      "execution_count": null,
      "outputs": [
        {
          "output_type": "stream",
          "text": [
            "El modelo actual tiene 12,132,134 parámetros entrenables.\n"
          ],
          "name": "stdout"
        }
      ]
    },
    {
      "cell_type": "markdown",
      "metadata": {
        "id": "UVqBqerlaSHk"
      },
      "source": [
        "Por último, definimos los embeddings que representan a \\<unk\\> y \\<pad\\>  como [0, 0, ..., 0]"
      ]
    },
    {
      "cell_type": "markdown",
      "metadata": {
        "id": "8xlq48WjiW6U"
      },
      "source": [
        "#### Definimos el entrenamiento de la red\n",
        "\n",
        "Algunos conceptos previos: \n",
        "\n",
        "- `epoch` : una pasada de entrenamiento completa de una dataset.\n",
        "- `batch`: una fracción de la época. Se utilizan para entrenar mas rápidamente la red. (mas eficiente pasar n datos que uno en cada ejecución del backpropagation)\n",
        "\n",
        "Esta función está encargada de entrenar la red en una época. Para esto, por cada batch de la época actual, predice los tags del texto, calcula su loss y luego hace backpropagation para actualizar los pesos de la red.\"\n",
        "\n",
        "Observación: En algunos comentarios aparecerá el tamaño de los tensores entre corchetes"
      ]
    },
    {
      "cell_type": "code",
      "metadata": {
        "ExecuteTime": {
          "end_time": "2020-06-23T22:25:54.515194Z",
          "start_time": "2020-06-23T22:25:54.505221Z"
        },
        "id": "DV6YLt0oiicW"
      },
      "source": [
        "def train(model, iterator, optimizer, criterion):\n",
        "\n",
        "    epoch_loss = 0\n",
        "    epoch_precision = 0\n",
        "    epoch_recall = 0\n",
        "    epoch_f1 = 0\n",
        "\n",
        "    model.train()\n",
        "\n",
        "    # Por cada batch del iterador de la época:\n",
        "    for batch in iterator:\n",
        "\n",
        "        # Extraemos el texto y los tags del batch que estamos procesado\n",
        "        text = batch.text\n",
        "        tags = batch.nertags\n",
        "\n",
        "        # Reiniciamos los gradientes calculados en la iteración anterior\n",
        "        optimizer.zero_grad()\n",
        "\n",
        "        #text = [sent len, batch size]\n",
        "\n",
        "        # Predecimos los tags del texto del batch.\n",
        "        predictions = model(text)\n",
        "\n",
        "        #predictions = [sent len, batch size, output dim]\n",
        "        #tags = [sent len, batch size]\n",
        "\n",
        "        # Reordenamos los datos para calcular la loss\n",
        "        predictions = predictions.view(-1, predictions.shape[-1])\n",
        "        tags = tags.view(-1)\n",
        "\n",
        "        #predictions = [sent len * batch size, output dim]\n",
        "        #tags = [sent len * batch size]\n",
        "\n",
        "        # Calculamos el Cross Entropy de las predicciones con respecto a las etiquetas reales\n",
        "        loss = criterion(predictions, tags)\n",
        "        \n",
        "        # Calculamos el accuracy\n",
        "        precision, recall, f1 = calculate_metrics(predictions, tags)\n",
        "\n",
        "        # Calculamos los gradientes\n",
        "        loss.backward()\n",
        "\n",
        "        # Actualizamos los parámetros de la red\n",
        "        optimizer.step()\n",
        "\n",
        "        # Actualizamos el loss y las métricas\n",
        "        epoch_loss += loss.item()\n",
        "        epoch_precision += precision\n",
        "        epoch_recall += recall\n",
        "        epoch_f1 += f1\n",
        "\n",
        "    return epoch_loss / len(iterator), epoch_precision / len(\n",
        "        iterator), epoch_recall / len(iterator), epoch_f1 / len(iterator)"
      ],
      "execution_count": null,
      "outputs": []
    },
    {
      "cell_type": "markdown",
      "metadata": {
        "id": "PYNcwKnAz5Hf"
      },
      "source": [
        "#### `Definimos la función de evaluación`\n",
        "\n",
        "Evalua el rendimiento actual de la red usando los datos de validación. \n",
        "\n",
        "Por cada batch de estos datos, calcula y reporta el loss y las métricas asociadas al conjunto de validación. \n",
        "Ya que las métricas son calculadas por cada batch, estas son retornadas promediadas por el número de batches entregados. (ver linea del return)"
      ]
    },
    {
      "cell_type": "code",
      "metadata": {
        "ExecuteTime": {
          "end_time": "2020-06-23T22:25:54.527162Z",
          "start_time": "2020-06-23T22:25:54.518186Z"
        },
        "id": "WsRuiUuHiicY"
      },
      "source": [
        "def evaluate(model, iterator, criterion):\n",
        "\n",
        "    epoch_loss = 0\n",
        "    epoch_precision = 0\n",
        "    epoch_recall = 0\n",
        "    epoch_f1 = 0\n",
        "\n",
        "    model.eval()\n",
        "\n",
        "    # Indicamos que ahora no guardaremos los gradientes\n",
        "    with torch.no_grad():\n",
        "        # Por cada batch\n",
        "        for batch in iterator:\n",
        "\n",
        "            text = batch.text\n",
        "            tags = batch.nertags\n",
        "\n",
        "            # Predecimos\n",
        "            predictions = model(text)\n",
        "\n",
        "            predictions = predictions.view(-1, predictions.shape[-1])\n",
        "            tags = tags.view(-1)\n",
        "\n",
        "            # Calculamos el Cross Entropy de las predicciones con respecto a las etiquetas reales\n",
        "            loss = criterion(predictions, tags)\n",
        "\n",
        "            # Calculamos las métricas\n",
        "            precision, recall, f1 = calculate_metrics(predictions, tags)\n",
        "\n",
        "            # Actualizamos el loss y las métricas\n",
        "            epoch_loss += loss.item()\n",
        "            epoch_precision += precision\n",
        "            epoch_recall += recall\n",
        "            epoch_f1 += f1\n",
        "\n",
        "    return epoch_loss / len(iterator), epoch_precision / len(\n",
        "        iterator), epoch_recall / len(iterator), epoch_f1 / len(iterator)"
      ],
      "execution_count": null,
      "outputs": []
    },
    {
      "cell_type": "code",
      "metadata": {
        "ExecuteTime": {
          "end_time": "2020-06-23T22:25:54.535141Z",
          "start_time": "2020-06-23T22:25:54.529158Z"
        },
        "id": "Xs-n9Y5yiica"
      },
      "source": [
        "import time\n",
        "\n",
        "def epoch_time(start_time, end_time):\n",
        "    elapsed_time = end_time - start_time\n",
        "    elapsed_mins = int(elapsed_time / 60)\n",
        "    elapsed_secs = int(elapsed_time - (elapsed_mins * 60))\n",
        "    return elapsed_mins, elapsed_secs"
      ],
      "execution_count": null,
      "outputs": []
    },
    {
      "cell_type": "markdown",
      "metadata": {
        "id": "hy3MVf5H0A94"
      },
      "source": [
        "\n",
        "#### Entrenamiento de la red\n",
        "\n",
        "En este cuadro de código ejecutaremos el entrenamiento de la red.\n",
        "Para esto, primero definiremos el número de épocas y luego por cada época, ejecutaremos `train` y `evaluate`.\n",
        "\n",
        "**Importante: Reiniciar los pesos del modelo**\n",
        "\n",
        "Si ejecutas nuevamente esta celda, se seguira entrenando el mismo modelo una y otra vez. \n",
        "Para reiniciar el modelo se debe ejecutar nuevamente la celda que contiene la función `init_weights`\n",
        "\n"
      ]
    },
    {
      "cell_type": "markdown",
      "metadata": {
        "id": "grOwW8b4yeSE"
      },
      "source": [
        "##Implementación para todos los modelos simultaneamente"
      ]
    },
    {
      "cell_type": "code",
      "metadata": {
        "id": "4cdxuEz1yiLK"
      },
      "source": [
        "def entrenarModelos(model,model_name,criterion,n_epochs,optimizer,init_weights,device='cuda'):\n",
        " \n",
        "  #Pasamos el modelo y el optimizador al device\n",
        "  model = model.to(device)\n",
        "  criterion = criterion.to(device)\n",
        "\n",
        "  model.apply(init_weights) #Iniciamos los pesos \n",
        "  print(f'El modelo actual tiene {count_parameters(model):,} parámetros entrenables.') #Printeamos la cantidad de parámetros entrenables \n",
        "\n",
        "  best_valid_loss = float('inf')\n",
        "\n",
        "  for epoch in range(n_epochs):\n",
        "    \n",
        "    start_time = time.time()\n",
        "\n",
        "    # Recuerdo: train_iterator y valid_iterator contienen el dataset dividido en batches.\n",
        "\n",
        "    # Entrenar\n",
        "    train_loss, train_precision, train_recall, train_f1 = train(\n",
        "        model, train_iterator, optimizer, criterion)\n",
        "\n",
        "    # Evaluar (valid = validación)\n",
        "    valid_loss, valid_precision, valid_recall, valid_f1 = evaluate(\n",
        "        model, valid_iterator, criterion)\n",
        "\n",
        "    end_time = time.time()\n",
        "\n",
        "    epoch_mins, epoch_secs = epoch_time(start_time, end_time)\n",
        "\n",
        "    # Si obtuvimos mejores resultados, guardamos este modelo en el almacenamiento (para poder cargarlo luego)\n",
        "    # Si detienen el entrenamiento prematuramente, pueden cargar el modelo en el siguiente recuadro de código.\n",
        "    if valid_loss < best_valid_loss:\n",
        "        best_valid_loss = valid_loss\n",
        "        torch.save(model.state_dict(), '{}.pt'.format(model_name))\n",
        "    # Si ya no mejoramos el loss de validación, terminamos de entrenar.\n",
        "\n",
        "    print(f'Epoch: {epoch+1:02} | Epoch Time: {epoch_mins}m {epoch_secs}s')\n",
        "    print(\n",
        "        f'\\tTrain Loss: {train_loss:.3f} | Train f1: {train_f1:.2f} | Train precision: {train_precision:.2f} | Train recall: {train_recall:.2f}'\n",
        "    )\n",
        "    print(\n",
        "        f'\\t Val. Loss: {valid_loss:.3f} |  Val. f1: {valid_f1:.2f} |  Val. precision: {valid_precision:.2f} | Val. recall: {valid_recall:.2f}'\n",
        "    )\n",
        "\n",
        "  #Cargamos ahora el mejor modelo \n",
        "\n",
        "  model.load_state_dict(torch.load('{}.pt'.format(model_name)))\n",
        "\n",
        "  #Limpiamos el caché\n",
        "  torch.cuda.empty_cache()\n",
        "\n",
        "  #Printeamos el mejor resultado \n",
        "\n",
        "  valid_loss, valid_precision, valid_recall, valid_f1 = evaluate(\n",
        "  model, valid_iterator, criterion)\n",
        "\n",
        "  print(\"El mejor de los resultados en términos de loss es: \")\n",
        "  print(\n",
        "  f'Val. Loss: {valid_loss:.3f} |  Val. f1: {valid_f1:.2f} | Val. precision: {valid_precision:.2f} | Val. recall: {valid_recall:.2f}'\n",
        "  )\n"
      ],
      "execution_count": null,
      "outputs": []
    },
    {
      "cell_type": "markdown",
      "metadata": {
        "id": "0nJ7zHvXeAfm"
      },
      "source": [
        "###Modelos de prueba"
      ]
    },
    {
      "cell_type": "code",
      "metadata": {
        "colab": {
          "base_uri": "https://localhost:8080/"
        },
        "id": "e9aldhbK0h6g",
        "outputId": "81cebe35-fd44-4534-bdf0-177958c31f33"
      },
      "source": [
        "print(\"Modelo Baseline\")\n",
        "#model = baseline_model\n",
        "#model_name = baseline_model_name\n",
        "#criterion = baseline_criterion\n",
        "#n_epochs = baseline_n_epochs\n",
        "#entrenarModelos(baseline_model,baseline_model_name,baseline_criterion,baseline_n_epochs,optimizer,init_weights,device='cuda')\n",
        "\n",
        "print(\"Modelo Nº2\")\n",
        "model = model_2\n",
        "model_name = model_name_2\n",
        "criterion = loss_2\n",
        "n_epochs = n_epochs_2\n",
        "entrenarModelos(model_2,model_name_2,loss_2,n_epochs_2,optimizer_2,init_weights,device='cuda')\n",
        "\n",
        "print(\"Modelo Nº3\")\n",
        "model = model_3\n",
        "model_name = model_name_3\n",
        "criterion = loss_3\n",
        "n_epochs = n_epochs_3\n",
        "entrenarModelos(model_3,model_name_3,loss_3,n_epochs_3,optimizer_3,init_weights,device='cuda')\n",
        "\n",
        "print(\"Modelo Nº4\")\n",
        "model = model_4\n",
        "model_name = model_name_4\n",
        "criterion = loss_4\n",
        "n_epochs = n_epochs_4\n",
        "entrenarModelos(model_4,model_name_4,loss_4,n_epochs_4,optimizer_4,init_weights_v2,device='cuda')"
      ],
      "execution_count": null,
      "outputs": [
        {
          "output_type": "stream",
          "text": [
            "Modelo Baseline\n",
            "Modelo Nº2\n",
            "El modelo actual tiene 13,423,398 parámetros entrenables.\n",
            "Epoch: 01 | Epoch Time: 0m 20s\n",
            "\tTrain Loss: 0.724 | Train f1: 0.01 | Train precision: 0.05 | Train recall: 0.01\n",
            "\t Val. Loss: 0.613 |  Val. f1: 0.06 |  Val. precision: 0.13 | Val. recall: 0.05\n",
            "Epoch: 02 | Epoch Time: 0m 20s\n",
            "\tTrain Loss: 0.407 | Train f1: 0.17 | Train precision: 0.28 | Train recall: 0.15\n",
            "\t Val. Loss: 0.300 |  Val. f1: 0.41 |  Val. precision: 0.48 | Val. recall: 0.42\n",
            "Epoch: 03 | Epoch Time: 0m 20s\n",
            "\tTrain Loss: 0.185 | Train f1: 0.49 | Train precision: 0.56 | Train recall: 0.48\n",
            "\t Val. Loss: 0.239 |  Val. f1: 0.54 |  Val. precision: 0.60 | Val. recall: 0.54\n",
            "Epoch: 04 | Epoch Time: 0m 20s\n",
            "\tTrain Loss: 0.109 | Train f1: 0.66 | Train precision: 0.71 | Train recall: 0.65\n",
            "\t Val. Loss: 0.251 |  Val. f1: 0.57 |  Val. precision: 0.63 | Val. recall: 0.58\n",
            "Epoch: 05 | Epoch Time: 0m 20s\n",
            "\tTrain Loss: 0.076 | Train f1: 0.74 | Train precision: 0.77 | Train recall: 0.73\n",
            "\t Val. Loss: 0.243 |  Val. f1: 0.61 |  Val. precision: 0.66 | Val. recall: 0.62\n",
            "Epoch: 06 | Epoch Time: 0m 20s\n",
            "\tTrain Loss: 0.057 | Train f1: 0.79 | Train precision: 0.81 | Train recall: 0.78\n",
            "\t Val. Loss: 0.253 |  Val. f1: 0.63 |  Val. precision: 0.67 | Val. recall: 0.64\n",
            "Epoch: 07 | Epoch Time: 0m 20s\n",
            "\tTrain Loss: 0.043 | Train f1: 0.82 | Train precision: 0.84 | Train recall: 0.82\n",
            "\t Val. Loss: 0.272 |  Val. f1: 0.63 |  Val. precision: 0.68 | Val. recall: 0.64\n",
            "Epoch: 08 | Epoch Time: 0m 20s\n",
            "\tTrain Loss: 0.034 | Train f1: 0.85 | Train precision: 0.86 | Train recall: 0.84\n",
            "\t Val. Loss: 0.284 |  Val. f1: 0.63 |  Val. precision: 0.68 | Val. recall: 0.64\n",
            "Epoch: 09 | Epoch Time: 0m 20s\n",
            "\tTrain Loss: 0.029 | Train f1: 0.87 | Train precision: 0.88 | Train recall: 0.87\n",
            "\t Val. Loss: 0.296 |  Val. f1: 0.63 |  Val. precision: 0.67 | Val. recall: 0.64\n",
            "Epoch: 10 | Epoch Time: 0m 20s\n",
            "\tTrain Loss: 0.025 | Train f1: 0.88 | Train precision: 0.89 | Train recall: 0.87\n",
            "\t Val. Loss: 0.314 |  Val. f1: 0.63 |  Val. precision: 0.67 | Val. recall: 0.63\n",
            "El mejor de los resultados en términos de loss es: \n",
            "Val. Loss: 0.239 |  Val. f1: 0.54 | Val. precision: 0.60 | Val. recall: 0.54\n",
            "Modelo Nº3\n",
            "El modelo actual tiene 12,132,134 parámetros entrenables.\n",
            "Epoch: 01 | Epoch Time: 0m 12s\n",
            "\tTrain Loss: 0.380 | Train f1: 0.25 | Train precision: 0.33 | Train recall: 0.23\n",
            "\t Val. Loss: 0.240 |  Val. f1: 0.48 |  Val. precision: 0.58 | Val. recall: 0.48\n",
            "Epoch: 02 | Epoch Time: 0m 12s\n",
            "\tTrain Loss: 0.116 | Train f1: 0.64 | Train precision: 0.71 | Train recall: 0.63\n",
            "\t Val. Loss: 0.186 |  Val. f1: 0.60 |  Val. precision: 0.66 | Val. recall: 0.59\n",
            "Epoch: 03 | Epoch Time: 0m 12s\n",
            "\tTrain Loss: 0.056 | Train f1: 0.77 | Train precision: 0.80 | Train recall: 0.77\n",
            "\t Val. Loss: 0.204 |  Val. f1: 0.61 |  Val. precision: 0.67 | Val. recall: 0.61\n",
            "Epoch: 04 | Epoch Time: 0m 12s\n",
            "\tTrain Loss: 0.033 | Train f1: 0.84 | Train precision: 0.86 | Train recall: 0.84\n",
            "\t Val. Loss: 0.215 |  Val. f1: 0.64 |  Val. precision: 0.69 | Val. recall: 0.63\n",
            "Epoch: 05 | Epoch Time: 0m 12s\n",
            "\tTrain Loss: 0.021 | Train f1: 0.89 | Train precision: 0.90 | Train recall: 0.88\n",
            "\t Val. Loss: 0.228 |  Val. f1: 0.63 |  Val. precision: 0.68 | Val. recall: 0.64\n",
            "Epoch: 06 | Epoch Time: 0m 12s\n",
            "\tTrain Loss: 0.015 | Train f1: 0.91 | Train precision: 0.92 | Train recall: 0.91\n",
            "\t Val. Loss: 0.238 |  Val. f1: 0.64 |  Val. precision: 0.68 | Val. recall: 0.64\n",
            "Epoch: 07 | Epoch Time: 0m 12s\n",
            "\tTrain Loss: 0.011 | Train f1: 0.93 | Train precision: 0.94 | Train recall: 0.93\n",
            "\t Val. Loss: 0.277 |  Val. f1: 0.63 |  Val. precision: 0.70 | Val. recall: 0.61\n",
            "Epoch: 08 | Epoch Time: 0m 12s\n",
            "\tTrain Loss: 0.010 | Train f1: 0.93 | Train precision: 0.94 | Train recall: 0.93\n",
            "\t Val. Loss: 0.294 |  Val. f1: 0.62 |  Val. precision: 0.70 | Val. recall: 0.61\n",
            "Epoch: 09 | Epoch Time: 0m 12s\n",
            "\tTrain Loss: 0.008 | Train f1: 0.95 | Train precision: 0.95 | Train recall: 0.95\n",
            "\t Val. Loss: 0.260 |  Val. f1: 0.64 |  Val. precision: 0.70 | Val. recall: 0.64\n",
            "Epoch: 10 | Epoch Time: 0m 12s\n",
            "\tTrain Loss: 0.007 | Train f1: 0.96 | Train precision: 0.96 | Train recall: 0.96\n",
            "\t Val. Loss: 0.274 |  Val. f1: 0.64 |  Val. precision: 0.69 | Val. recall: 0.64\n",
            "El mejor de los resultados en términos de loss es: \n",
            "Val. Loss: 0.186 |  Val. f1: 0.60 | Val. precision: 0.66 | Val. recall: 0.59\n",
            "Modelo Nº4\n",
            "El modelo actual tiene 23,773,990 parámetros entrenables.\n",
            "Epoch: 01 | Epoch Time: 0m 28s\n",
            "\tTrain Loss: 0.584 | Train f1: 0.04 | Train precision: 0.08 | Train recall: 0.03\n",
            "\t Val. Loss: 0.342 |  Val. f1: 0.29 |  Val. precision: 0.35 | Val. recall: 0.29\n",
            "Epoch: 02 | Epoch Time: 0m 28s\n",
            "\tTrain Loss: 0.205 | Train f1: 0.43 | Train precision: 0.51 | Train recall: 0.42\n",
            "\t Val. Loss: 0.216 |  Val. f1: 0.49 |  Val. precision: 0.57 | Val. recall: 0.49\n",
            "Epoch: 03 | Epoch Time: 0m 28s\n",
            "\tTrain Loss: 0.104 | Train f1: 0.64 | Train precision: 0.69 | Train recall: 0.63\n",
            "\t Val. Loss: 0.190 |  Val. f1: 0.59 |  Val. precision: 0.64 | Val. recall: 0.60\n",
            "Epoch: 04 | Epoch Time: 0m 28s\n",
            "\tTrain Loss: 0.066 | Train f1: 0.75 | Train precision: 0.78 | Train recall: 0.74\n",
            "\t Val. Loss: 0.205 |  Val. f1: 0.60 |  Val. precision: 0.65 | Val. recall: 0.63\n",
            "Epoch: 05 | Epoch Time: 0m 28s\n",
            "\tTrain Loss: 0.041 | Train f1: 0.81 | Train precision: 0.83 | Train recall: 0.80\n",
            "\t Val. Loss: 0.213 |  Val. f1: 0.63 |  Val. precision: 0.67 | Val. recall: 0.64\n",
            "Epoch: 06 | Epoch Time: 0m 28s\n",
            "\tTrain Loss: 0.029 | Train f1: 0.85 | Train precision: 0.87 | Train recall: 0.85\n",
            "\t Val. Loss: 0.232 |  Val. f1: 0.63 |  Val. precision: 0.67 | Val. recall: 0.65\n",
            "Epoch: 07 | Epoch Time: 0m 28s\n",
            "\tTrain Loss: 0.021 | Train f1: 0.89 | Train precision: 0.90 | Train recall: 0.89\n",
            "\t Val. Loss: 0.262 |  Val. f1: 0.60 |  Val. precision: 0.65 | Val. recall: 0.63\n",
            "Epoch: 08 | Epoch Time: 0m 28s\n",
            "\tTrain Loss: 0.018 | Train f1: 0.89 | Train precision: 0.90 | Train recall: 0.89\n",
            "\t Val. Loss: 0.255 |  Val. f1: 0.61 |  Val. precision: 0.66 | Val. recall: 0.64\n",
            "Epoch: 09 | Epoch Time: 0m 28s\n",
            "\tTrain Loss: 0.014 | Train f1: 0.91 | Train precision: 0.92 | Train recall: 0.91\n",
            "\t Val. Loss: 0.286 |  Val. f1: 0.63 |  Val. precision: 0.67 | Val. recall: 0.64\n",
            "Epoch: 10 | Epoch Time: 0m 28s\n",
            "\tTrain Loss: 0.012 | Train f1: 0.93 | Train precision: 0.93 | Train recall: 0.92\n",
            "\t Val. Loss: 0.326 |  Val. f1: 0.60 |  Val. precision: 0.66 | Val. recall: 0.63\n",
            "El mejor de los resultados en términos de loss es: \n",
            "Val. Loss: 0.190 |  Val. f1: 0.59 | Val. precision: 0.64 | Val. recall: 0.60\n"
          ],
          "name": "stdout"
        }
      ]
    },
    {
      "cell_type": "markdown",
      "metadata": {
        "id": "OCApw9DfdbrX"
      },
      "source": [
        "### Modelo definitivo, modelo zeta\n"
      ]
    },
    {
      "cell_type": "code",
      "metadata": {
        "id": "LemnTe78dfBS"
      },
      "source": [
        "#En este modelo, cambiaremos unicamente la cantidad de parámetros\n",
        "\n",
        "# tamaño del vocabulario. recuerden que la entrada son vectores bag of word(one-hot).\n",
        "INPUT_DIM = len(TEXT.vocab)\n",
        "EMBEDDING_DIM = 300  # dimensión de los embeddings.\n",
        "HIDDEN_DIM = 256  # dimensión de la capas LSTM  - La cambiamos de 128 -> 256\n",
        "OUTPUT_DIM = len(NER_TAGS.vocab)  # número de clases\n",
        "\n",
        "N_LAYERS = 3  # número de capas. - La cambiamos de 2 -> 10\n",
        "DROPOUT = 0.25 #Lo cambiamos de 0.25 -> 0.4\n",
        "BIDIRECTIONAL = True\n",
        "\n",
        "model_zeta = NER_RNN(INPUT_DIM, EMBEDDING_DIM, HIDDEN_DIM, OUTPUT_DIM,\n",
        "                         N_LAYERS, BIDIRECTIONAL, DROPOUT, PAD_IDX)\n",
        "\n",
        "model_name_zeta = 'Modelo zeta'\n",
        "n_epochs_zeta = 7  \n",
        "\n",
        "# Loss: Cross Entropy\n",
        "\n",
        "TAG_PAD_IDX = NER_TAGS.vocab.stoi[NER_TAGS.pad_token]\n",
        "loss_zeta = nn.CrossEntropyLoss(ignore_index = TAG_PAD_IDX)\n",
        "\n",
        "# Optimizador\n",
        "optimizer_zeta = optim.Adam(model_zeta.parameters())"
      ],
      "execution_count": null,
      "outputs": []
    },
    {
      "cell_type": "code",
      "metadata": {
        "id": "RecxV8SPd3Fc"
      },
      "source": [
        "model = model_zeta\n",
        "model_name = model_name_zeta\n",
        "criterion = loss_zeta\n",
        "n_epochs = n_epochs_zeta"
      ],
      "execution_count": null,
      "outputs": []
    },
    {
      "cell_type": "code",
      "metadata": {
        "id": "cB3YVBZOdzfM"
      },
      "source": [
        "def init_weights(m):\n",
        "    # Inicializamos los pesos como aleatorios\n",
        "    for name, param in m.named_parameters():\n",
        "        nn.init.normal_(param.data, mean=0, std=0.1) \n",
        "        \n",
        "    # Seteamos como 0 los embeddings de UNK y PAD.\n",
        "    model.embedding.weight.data[UNK_IDX] = torch.zeros(EMBEDDING_DIM)\n",
        "    model.embedding.weight.data[PAD_IDX] = torch.zeros(EMBEDDING_DIM)\n",
        "        \n",
        "#model.apply(init_weights)"
      ],
      "execution_count": null,
      "outputs": []
    },
    {
      "cell_type": "code",
      "metadata": {
        "colab": {
          "base_uri": "https://localhost:8080/"
        },
        "id": "O_7BVCdyd70e",
        "outputId": "f156a300-e051-4d7a-e32d-cc1e360946de"
      },
      "source": [
        "entrenarModelos(model_zeta,model_name_zeta,loss_zeta,n_epochs_zeta,optimizer_zeta,init_weights,device='cuda')"
      ],
      "execution_count": null,
      "outputs": [
        {
          "output_type": "stream",
          "text": [
            "El modelo actual tiene 12,132,134 parámetros entrenables.\n",
            "Epoch: 01 | Epoch Time: 0m 12s\n",
            "\tTrain Loss: 0.375 | Train f1: 0.25 | Train precision: 0.34 | Train recall: 0.23\n",
            "\t Val. Loss: 0.232 |  Val. f1: 0.50 |  Val. precision: 0.60 | Val. recall: 0.47\n",
            "Epoch: 02 | Epoch Time: 0m 12s\n",
            "\tTrain Loss: 0.116 | Train f1: 0.65 | Train precision: 0.71 | Train recall: 0.63\n",
            "\t Val. Loss: 0.199 |  Val. f1: 0.59 |  Val. precision: 0.66 | Val. recall: 0.58\n",
            "Epoch: 03 | Epoch Time: 0m 12s\n",
            "\tTrain Loss: 0.055 | Train f1: 0.77 | Train precision: 0.80 | Train recall: 0.76\n",
            "\t Val. Loss: 0.185 |  Val. f1: 0.63 |  Val. precision: 0.68 | Val. recall: 0.63\n",
            "Epoch: 04 | Epoch Time: 0m 12s\n",
            "\tTrain Loss: 0.032 | Train f1: 0.84 | Train precision: 0.86 | Train recall: 0.84\n",
            "\t Val. Loss: 0.203 |  Val. f1: 0.64 |  Val. precision: 0.69 | Val. recall: 0.64\n",
            "Epoch: 05 | Epoch Time: 0m 12s\n",
            "\tTrain Loss: 0.022 | Train f1: 0.88 | Train precision: 0.89 | Train recall: 0.88\n",
            "\t Val. Loss: 0.230 |  Val. f1: 0.63 |  Val. precision: 0.69 | Val. recall: 0.63\n",
            "Epoch: 06 | Epoch Time: 0m 12s\n",
            "\tTrain Loss: 0.016 | Train f1: 0.91 | Train precision: 0.91 | Train recall: 0.90\n",
            "\t Val. Loss: 0.221 |  Val. f1: 0.64 |  Val. precision: 0.69 | Val. recall: 0.63\n",
            "Epoch: 07 | Epoch Time: 0m 12s\n",
            "\tTrain Loss: 0.013 | Train f1: 0.92 | Train precision: 0.93 | Train recall: 0.92\n",
            "\t Val. Loss: 0.231 |  Val. f1: 0.64 |  Val. precision: 0.68 | Val. recall: 0.65\n",
            "El mejor de los resultados en términos de loss es: \n",
            "Val. Loss: 0.185 |  Val. f1: 0.63 | Val. precision: 0.68 | Val. recall: 0.63\n"
          ],
          "name": "stdout"
        }
      ]
    },
    {
      "cell_type": "markdown",
      "metadata": {
        "id": "uF1ysw_Kw6zz"
      },
      "source": [
        "\n",
        "### Predecir datos para la competencia\n",
        "\n",
        "Ahora, a partir de los datos de **test** y nuestro modelo entrenado, predeciremos las etiquetas que serán evaluadas en la competencia."
      ]
    },
    {
      "cell_type": "code",
      "metadata": {
        "ExecuteTime": {
          "end_time": "2020-06-23T22:31:56.776563Z",
          "start_time": "2020-06-23T22:31:39.654525Z"
        },
        "id": "1RBs3UU4wLk3"
      },
      "source": [
        "def predict_labels(model, iterator, criterion, fields=fields):\n",
        "\n",
        "    # Extraemos los vocabularios.\n",
        "    text_field = fields[0][1]\n",
        "    nertags_field = fields[1][1]\n",
        "    tags_vocab = nertags_field.vocab.itos\n",
        "    words_vocab = text_field.vocab.itos\n",
        "\n",
        "    model.eval()\n",
        "\n",
        "    predictions = []\n",
        "\n",
        "    with torch.no_grad():\n",
        "\n",
        "        for batch in iterator:\n",
        "\n",
        "            text_batch = batch.text\n",
        "            text_batch = torch.transpose(text_batch, 0, 1).tolist()\n",
        "\n",
        "            # Predecir los tags de las sentences del batch\n",
        "            predictions_batch = model(batch.text)\n",
        "            predictions_batch = torch.transpose(predictions_batch, 0, 1)\n",
        "\n",
        "            # por cada oración predicha:\n",
        "            for sentence, sentence_prediction in zip(text_batch,\n",
        "                                                     predictions_batch):\n",
        "                for word_idx, word_predictions in zip(sentence,\n",
        "                                                      sentence_prediction):\n",
        "                    # Obtener el indice del tag con la probabilidad mas alta.\n",
        "                    argmax_index = word_predictions.topk(1)[1]\n",
        "\n",
        "                    current_tag = tags_vocab[argmax_index]\n",
        "                    # Obtenemos la palabra\n",
        "                    current_word = words_vocab[word_idx]\n",
        "\n",
        "                    if current_word != '<pad>':\n",
        "                        predictions.append([current_word, current_tag])\n",
        "\n",
        "\n",
        "    return predictions\n",
        "\n",
        "\n",
        "predictions = predict_labels(model, test_iterator, criterion)"
      ],
      "execution_count": null,
      "outputs": []
    },
    {
      "cell_type": "markdown",
      "metadata": {
        "id": "YwQp1Ru8Oht8"
      },
      "source": [
        "### Generar el archivo para la submission\n",
        "\n",
        "No hay problema si aparecen unk en la salida. Estos no son relevantes para evaluarlos, usamos solo los tags."
      ]
    },
    {
      "cell_type": "code",
      "metadata": {
        "ExecuteTime": {
          "end_time": "2020-06-23T22:33:41.845955Z",
          "start_time": "2020-06-23T22:33:41.731717Z"
        },
        "id": "RPfZkjJGkWyq"
      },
      "source": [
        "import os, shutil\n",
        "\n",
        "if (os.path.isfile('./predictions.zip')):\n",
        "    os.remove('./predictions.zip')\n",
        "\n",
        "if (not os.path.isdir('./predictions')):\n",
        "    os.mkdir('./predictions')\n",
        "\n",
        "else:\n",
        "    # Eliminar predicciones anteriores:\n",
        "    shutil.rmtree('./predictions')\n",
        "    os.mkdir('./predictions')\n",
        "\n",
        "f = open('predictions/predictions.txt', 'w')\n",
        "for word, tag in predictions:\n",
        "    f.write(word + ' ' + tag + '\\n')\n",
        "f.write('\\n')\n",
        "f.close()\n",
        "\n",
        "a = shutil.make_archive('predictions', 'zip', './predictions')"
      ],
      "execution_count": null,
      "outputs": []
    },
    {
      "cell_type": "code",
      "metadata": {
        "ExecuteTime": {
          "end_time": "2020-06-23T21:49:19.575711Z",
          "start_time": "2020-06-23T21:49:19.100486Z"
        },
        "id": "k2PqvJAmTFWR",
        "colab": {
          "base_uri": "https://localhost:8080/",
          "height": 17
        },
        "outputId": "6234b07a-a36a-498a-b8c2-62c8ceb1911c"
      },
      "source": [
        "# A veces no funciona a la primera. Ejecutar mas de una vez para obtener el archivo...\n",
        "from google.colab import files\n",
        "files.download('predictions.zip')  "
      ],
      "execution_count": null,
      "outputs": [
        {
          "output_type": "display_data",
          "data": {
            "application/javascript": [
              "\n",
              "    async function download(id, filename, size) {\n",
              "      if (!google.colab.kernel.accessAllowed) {\n",
              "        return;\n",
              "      }\n",
              "      const div = document.createElement('div');\n",
              "      const label = document.createElement('label');\n",
              "      label.textContent = `Downloading \"${filename}\": `;\n",
              "      div.appendChild(label);\n",
              "      const progress = document.createElement('progress');\n",
              "      progress.max = size;\n",
              "      div.appendChild(progress);\n",
              "      document.body.appendChild(div);\n",
              "\n",
              "      const buffers = [];\n",
              "      let downloaded = 0;\n",
              "\n",
              "      const channel = await google.colab.kernel.comms.open(id);\n",
              "      // Send a message to notify the kernel that we're ready.\n",
              "      channel.send({})\n",
              "\n",
              "      for await (const message of channel.messages) {\n",
              "        // Send a message to notify the kernel that we're ready.\n",
              "        channel.send({})\n",
              "        if (message.buffers) {\n",
              "          for (const buffer of message.buffers) {\n",
              "            buffers.push(buffer);\n",
              "            downloaded += buffer.byteLength;\n",
              "            progress.value = downloaded;\n",
              "          }\n",
              "        }\n",
              "      }\n",
              "      const blob = new Blob(buffers, {type: 'application/binary'});\n",
              "      const a = document.createElement('a');\n",
              "      a.href = window.URL.createObjectURL(blob);\n",
              "      a.download = filename;\n",
              "      div.appendChild(a);\n",
              "      a.click();\n",
              "      div.remove();\n",
              "    }\n",
              "  "
            ],
            "text/plain": [
              "<IPython.core.display.Javascript object>"
            ]
          },
          "metadata": {
            "tags": []
          }
        },
        {
          "output_type": "display_data",
          "data": {
            "application/javascript": [
              "download(\"download_75a4c205-38b7-4639-ba29-a75c225e5f4e\", \"predictions.zip\", 110222)"
            ],
            "text/plain": [
              "<IPython.core.display.Javascript object>"
            ]
          },
          "metadata": {
            "tags": []
          }
        }
      ]
    },
    {
      "cell_type": "markdown",
      "metadata": {
        "id": "LZEWJXrNaSIf"
      },
      "source": [
        "## Conclusiones\n",
        "\n",
        "Si bien no se pudo comprobar la eficacia del modelo en el conjunto de test pues no se disponía de la competencia con las etiquetas del tal conjunto, podemos notar una mejora sobre el baseline en base a la búsqueda exhaustiva de parámetros que mejoraran el modelo. En particular lo que más ayudó a que el modelo presentara mejores métricas fueron: \n",
        "1. Aumentar la dimensión del embedding\n",
        "2. Aumentar la dimensión de las capas ocultas\n",
        "3. Utilizar una unidad LSTM con bidireccionalidad\n",
        "4. Aumentar una capa oculta (no más que eso)\n",
        "5. Aplicar técnicas de dropout para evitar el overfitting\n",
        "6. Inicializar los pesos no marcó la gran diferencia en esta oportunidad\n",
        "7. Implementar un optimizador Adam con un learning rate de 0.001 \n",
        "8. Mantener el batch size en 32\n",
        "\n",
        "A continuación se presenta una tabla con los rendimientos de distintos modelos en base a los parámetros escogidos\n",
        "\n",
        "![image.png](data:image/png;base64,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)\n",
        "\n",
        "\n",
        "![image.png](data:image/png;base64,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)\n",
        "\n",
        "Vemos que el modelo zeta presentó en general un rendimiento superior al del baseline en sus 3 métricas consideradas para una tarea tan complicada como NER, por lo que se encontraron un buen set de parámetros (claramente no el mejor)\n",
        "\n",
        "Estoy conforme con los resultados en esta oportunidad pues como se puede observar, el baseline ya presentaba un buen rendimiento y se consiguió una mejora sobre este, por supuesto que pudo haber sido mejor, faltó continuar investigando implementaciones cercanas al estado del arte para mejorar el rendimiento.\n",
        "\n",
        "Investigando sobre los modelos que se utilizaron, pude aprender mucho sobre el problema de NER e incluso sobre NLP en general por lo que me llevo una buena experiencia (a pesar de no haber realizado la tarea correspondiente jajaja)"
      ]
    },
    {
      "cell_type": "code",
      "metadata": {
        "id": "WP0pxmFebmvh"
      },
      "source": [
        ""
      ],
      "execution_count": null,
      "outputs": []
    }
  ]
}