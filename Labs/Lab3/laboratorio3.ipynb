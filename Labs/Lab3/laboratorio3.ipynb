{
 "cells": [
  {
   "cell_type": "markdown",
   "metadata": {
    "id": "XUZ1dFPHzAHl"
   },
   "source": [
    "<h1><center>Laboratorio 3: Clasificación y Clustering 🔮</center></h1>\n",
    "\n",
    "<center><strong>MDS7202: Laboratorio de Programación Científica para Ciencia de Datos</strong></center>"
   ]
  },
  {
   "cell_type": "markdown",
   "metadata": {
    "id": "UD8X1uhGzAHq"
   },
   "source": [
    "### Cuerpo Docente:\n",
    "\n",
    "- Profesor: Pablo Badilla\n",
    "- Auxiliar: Ignacio Meza D.\n",
    "- Ayudante: Diego Irarrázaval"
   ]
  },
  {
   "cell_type": "markdown",
   "metadata": {
    "id": "tXflExjqzAHr"
   },
   "source": [
    "### Equipo: SUPER IMPORTANTE - notebooks sin nombre no serán revisados\n",
    "\n",
    "- Nombre de alumno 1: Nelson Bruno Andrés Moreno Cabañas\n"
   ]
  },
  {
   "cell_type": "markdown",
   "metadata": {
    "id": "AD-V0bbZzAHr"
   },
   "source": [
    "### **Link de repositorio de GitHub:** `https://github.com/Bruno-Moreno/LabProgra`"
   ]
  },
  {
   "cell_type": "markdown",
   "metadata": {
    "id": "EcnsiQMkzAHr"
   },
   "source": [
    "### Indice \n",
    "\n",
    "1. [Temas a tratar](#Temas-a-tratar:)\n",
    "3. [Descripcción del laboratorio](#Descripción-del-laboratorio.)\n",
    "4. [Desarrollo](#Desarrollo)"
   ]
  },
  {
   "cell_type": "markdown",
   "metadata": {
    "id": "6uBLPj1PzAHs"
   },
   "source": [
    "# Temas a tratar\n",
    "\n",
    "- Manejo de DataFrames con la libreria `pandas`.\n",
    "- Exploración del dataset y los resultados a través de visualizaciones interactivas usando `plotly`.\n",
    "- Clasificación en `scikit-learn`\n",
    "- Uso de pipelines.\n",
    "\n",
    "## Reglas:\n",
    "\n",
    "- Fecha de entrega: 4/06/2021\n",
    "- **Grupos de 2 personas**\n",
    "- **Ausentes** deberán realizar la actividad solos. \n",
    "- Cualquier duda fuera del horario de clases al foro. Mensajes al equipo docente serán respondidos por este medio.\n",
    "- Prohibidas las copias. \n",
    "- Pueden usar cualquer matrial del curso que estimen conveniente.\n",
    "\n",
    "### Objetivos principales del laboratorio\n",
    "\n",
    "- Aplicar y aprovechar las ventajas que nos ofrece la libreria `pandas`.\n",
    "- Utilizar `plotly` para obtener información gráfica del dataset.\n",
    "- Aplicar las ventajas que nos ofrece crear un pipeline.\n",
    "- Visualizar el funcionamiento de clasificadores.\n",
    "\n",
    "El laboratorio deberá ser desarrollado sin el uso indiscriminado de iteradores nativos de python (aka \"for\", \"while\"). La idea es que aprendan a exprimir al máximo las funciones optimizadas que nos entrega `pandas`, las cuales vale mencionar, son bastante más eficientes que los iteradores nativos sobre DataFrames."
   ]
  },
  {
   "cell_type": "markdown",
   "metadata": {
    "id": "MhISwri4zAHy"
   },
   "source": [
    "#Importamos librerias utiles 😸"
   ]
  },
  {
   "cell_type": "code",
   "execution_count": 1,
   "metadata": {
    "ExecuteTime": {
     "end_time": "2021-03-29T00:08:16.884674Z",
     "start_time": "2021-03-29T00:08:16.349846Z"
    },
    "id": "uyc33dKdzAHy"
   },
   "outputs": [
    {
     "name": "stdout",
     "output_type": "stream",
     "text": [
      "Requirement already up-to-date: plotly in c:\\users\\bruno\\anaconda3\\lib\\site-packages (4.14.3)\n",
      "Requirement already satisfied, skipping upgrade: six in c:\\users\\bruno\\anaconda3\\lib\\site-packages (from plotly) (1.15.0)\n",
      "Requirement already satisfied, skipping upgrade: retrying>=1.3.3 in c:\\users\\bruno\\anaconda3\\lib\\site-packages (from plotly) (1.3.3)\n",
      "Requirement already satisfied: umap-learn in c:\\users\\bruno\\anaconda3\\lib\\site-packages (0.5.1)\n",
      "Requirement already satisfied: numba>=0.49 in c:\\users\\bruno\\anaconda3\\lib\\site-packages (from umap-learn) (0.51.2)\n",
      "Requirement already satisfied: scikit-learn>=0.22 in c:\\users\\bruno\\anaconda3\\lib\\site-packages (from umap-learn) (0.23.2)\n",
      "Requirement already satisfied: pynndescent>=0.5 in c:\\users\\bruno\\anaconda3\\lib\\site-packages (from umap-learn) (0.5.2)\n",
      "Requirement already satisfied: scipy>=1.0 in c:\\users\\bruno\\anaconda3\\lib\\site-packages (from umap-learn) (1.5.2)\n",
      "Requirement already satisfied: numpy>=1.17 in c:\\users\\bruno\\anaconda3\\lib\\site-packages (from umap-learn) (1.19.2)\n",
      "Requirement already satisfied: llvmlite<0.35,>=0.34.0.dev0 in c:\\users\\bruno\\anaconda3\\lib\\site-packages (from numba>=0.49->umap-learn) (0.34.0)\n",
      "Requirement already satisfied: setuptools in c:\\users\\bruno\\anaconda3\\lib\\site-packages (from numba>=0.49->umap-learn) (50.3.1.post20201107)\n",
      "Requirement already satisfied: joblib>=0.11 in c:\\users\\bruno\\anaconda3\\lib\\site-packages (from scikit-learn>=0.22->umap-learn) (0.17.0)\n",
      "Requirement already satisfied: threadpoolctl>=2.0.0 in c:\\users\\bruno\\anaconda3\\lib\\site-packages (from scikit-learn>=0.22->umap-learn) (2.1.0)\n"
     ]
    }
   ],
   "source": [
    "# Libreria Core del lab.\n",
    "import numpy as np\n",
    "import pandas as pd\n",
    "from sklearn.pipeline import Pipeline\n",
    "from sklearn.compose import ColumnTransformer\n",
    "from sklearn.model_selection import train_test_split \n",
    "\n",
    "# Pre-procesamiento\n",
    "from sklearn.preprocessing import MinMaxScaler\n",
    "from sklearn.preprocessing import StandardScaler\n",
    "from sklearn.preprocessing import FunctionTransformer\n",
    "from sklearn.preprocessing import PowerTransformer\n",
    "from sklearn.preprocessing import OneHotEncoder\n",
    "from sklearn.tree import DecisionTreeClassifier\n",
    "\n",
    "# Metricas de evaluación\n",
    "from sklearn.metrics import classification_report\n",
    "from sklearn.metrics import accuracy_score\n",
    "from sklearn.metrics import f1_score\n",
    "from sklearn.metrics import cohen_kappa_score\n",
    "\n",
    "#Libreria para plotear\n",
    "!pip install --upgrade plotly\n",
    "import plotly.express as px\n",
    "from plotly.subplots import make_subplots\n",
    "import plotly.graph_objects as go\n",
    "\n",
    "# Proyecciones en baja dimensionalidad: UMAP\n",
    "!pip install umap-learn"
   ]
  },
  {
   "cell_type": "markdown",
   "metadata": {
    "id": "xpOTbQcxbSiy"
   },
   "source": [
    "# 1. Predicciones futboleras."
   ]
  },
  {
   "cell_type": "markdown",
   "metadata": {
    "id": "3Q93vbNS25bM"
   },
   "source": [
    "<p align=\"center\">\n",
    "  <img src=\"https://thumbs.gfycat.com/ThornyFrankFoxhound-size_restricted.gif\" width=\"500\">\n",
    "</p>"
   ]
  },
  {
   "cell_type": "markdown",
   "metadata": {
    "id": "jnmZfFpxTTYX"
   },
   "source": [
    "Para este laboratorio se deberá trabajar con los csv ```FullData.csv```, donde deberán aplicar algoritmos de Clustering y clasificación información relevante de jugadores de futbol.\n",
    "\n",
    "Para comenzar cargue el dataset señalado y visualice a traves de un head los atributos que posee el dataset."
   ]
  },
  {
   "cell_type": "code",
   "execution_count": 2,
   "metadata": {
    "colab": {
     "base_uri": "https://localhost:8080/",
     "height": 309
    },
    "executionInfo": {
     "elapsed": 1068,
     "status": "ok",
     "timestamp": 1622225680872,
     "user": {
      "displayName": "IGNACIO ALEJANDRO MEZA",
      "photoUrl": "",
      "userId": "17011121633069169364"
     },
     "user_tz": 240
    },
    "id": "bED3w3tDbSCf",
    "outputId": "456a6491-a831-4ea8-e54e-2483f7da6482"
   },
   "outputs": [
    {
     "data": {
      "text/html": [
       "<div>\n",
       "<style scoped>\n",
       "    .dataframe tbody tr th:only-of-type {\n",
       "        vertical-align: middle;\n",
       "    }\n",
       "\n",
       "    .dataframe tbody tr th {\n",
       "        vertical-align: top;\n",
       "    }\n",
       "\n",
       "    .dataframe thead th {\n",
       "        text-align: right;\n",
       "    }\n",
       "</style>\n",
       "<table border=\"1\" class=\"dataframe\">\n",
       "  <thead>\n",
       "    <tr style=\"text-align: right;\">\n",
       "      <th></th>\n",
       "      <th>Name</th>\n",
       "      <th>Nationality</th>\n",
       "      <th>National_Position</th>\n",
       "      <th>Club_Position</th>\n",
       "      <th>Height</th>\n",
       "      <th>Weight</th>\n",
       "      <th>Preffered_Foot</th>\n",
       "      <th>Age</th>\n",
       "      <th>Work_Rate</th>\n",
       "      <th>Weak_foot</th>\n",
       "      <th>...</th>\n",
       "      <th>Agility</th>\n",
       "      <th>Jumping</th>\n",
       "      <th>Heading</th>\n",
       "      <th>Shot_Power</th>\n",
       "      <th>Finishing</th>\n",
       "      <th>Long_Shots</th>\n",
       "      <th>Curve</th>\n",
       "      <th>Freekick_Accuracy</th>\n",
       "      <th>Penalties</th>\n",
       "      <th>Volleys</th>\n",
       "    </tr>\n",
       "  </thead>\n",
       "  <tbody>\n",
       "    <tr>\n",
       "      <th>0</th>\n",
       "      <td>Cristiano Ronaldo</td>\n",
       "      <td>Portugal</td>\n",
       "      <td>LS</td>\n",
       "      <td>LW</td>\n",
       "      <td>185 cm</td>\n",
       "      <td>80 kg</td>\n",
       "      <td>Right</td>\n",
       "      <td>32</td>\n",
       "      <td>High / Low</td>\n",
       "      <td>4</td>\n",
       "      <td>...</td>\n",
       "      <td>90</td>\n",
       "      <td>95</td>\n",
       "      <td>85</td>\n",
       "      <td>92</td>\n",
       "      <td>93</td>\n",
       "      <td>90</td>\n",
       "      <td>81</td>\n",
       "      <td>76</td>\n",
       "      <td>85</td>\n",
       "      <td>88</td>\n",
       "    </tr>\n",
       "    <tr>\n",
       "      <th>1</th>\n",
       "      <td>Lionel Messi</td>\n",
       "      <td>Argentina</td>\n",
       "      <td>RW</td>\n",
       "      <td>RW</td>\n",
       "      <td>170 cm</td>\n",
       "      <td>72 kg</td>\n",
       "      <td>Left</td>\n",
       "      <td>29</td>\n",
       "      <td>Medium / Medium</td>\n",
       "      <td>4</td>\n",
       "      <td>...</td>\n",
       "      <td>90</td>\n",
       "      <td>68</td>\n",
       "      <td>71</td>\n",
       "      <td>85</td>\n",
       "      <td>95</td>\n",
       "      <td>88</td>\n",
       "      <td>89</td>\n",
       "      <td>90</td>\n",
       "      <td>74</td>\n",
       "      <td>85</td>\n",
       "    </tr>\n",
       "    <tr>\n",
       "      <th>2</th>\n",
       "      <td>Neymar</td>\n",
       "      <td>Brazil</td>\n",
       "      <td>LW</td>\n",
       "      <td>LW</td>\n",
       "      <td>174 cm</td>\n",
       "      <td>68 kg</td>\n",
       "      <td>Right</td>\n",
       "      <td>25</td>\n",
       "      <td>High / Medium</td>\n",
       "      <td>5</td>\n",
       "      <td>...</td>\n",
       "      <td>96</td>\n",
       "      <td>61</td>\n",
       "      <td>62</td>\n",
       "      <td>78</td>\n",
       "      <td>89</td>\n",
       "      <td>77</td>\n",
       "      <td>79</td>\n",
       "      <td>84</td>\n",
       "      <td>81</td>\n",
       "      <td>83</td>\n",
       "    </tr>\n",
       "    <tr>\n",
       "      <th>3</th>\n",
       "      <td>Luis Suárez</td>\n",
       "      <td>Uruguay</td>\n",
       "      <td>LS</td>\n",
       "      <td>ST</td>\n",
       "      <td>182 cm</td>\n",
       "      <td>85 kg</td>\n",
       "      <td>Right</td>\n",
       "      <td>30</td>\n",
       "      <td>High / Medium</td>\n",
       "      <td>4</td>\n",
       "      <td>...</td>\n",
       "      <td>86</td>\n",
       "      <td>69</td>\n",
       "      <td>77</td>\n",
       "      <td>87</td>\n",
       "      <td>94</td>\n",
       "      <td>86</td>\n",
       "      <td>86</td>\n",
       "      <td>84</td>\n",
       "      <td>85</td>\n",
       "      <td>88</td>\n",
       "    </tr>\n",
       "    <tr>\n",
       "      <th>4</th>\n",
       "      <td>Manuel Neuer</td>\n",
       "      <td>Germany</td>\n",
       "      <td>GK</td>\n",
       "      <td>GK</td>\n",
       "      <td>193 cm</td>\n",
       "      <td>92 kg</td>\n",
       "      <td>Right</td>\n",
       "      <td>31</td>\n",
       "      <td>Medium / Medium</td>\n",
       "      <td>4</td>\n",
       "      <td>...</td>\n",
       "      <td>52</td>\n",
       "      <td>78</td>\n",
       "      <td>25</td>\n",
       "      <td>25</td>\n",
       "      <td>13</td>\n",
       "      <td>16</td>\n",
       "      <td>14</td>\n",
       "      <td>11</td>\n",
       "      <td>47</td>\n",
       "      <td>11</td>\n",
       "    </tr>\n",
       "    <tr>\n",
       "      <th>...</th>\n",
       "      <td>...</td>\n",
       "      <td>...</td>\n",
       "      <td>...</td>\n",
       "      <td>...</td>\n",
       "      <td>...</td>\n",
       "      <td>...</td>\n",
       "      <td>...</td>\n",
       "      <td>...</td>\n",
       "      <td>...</td>\n",
       "      <td>...</td>\n",
       "      <td>...</td>\n",
       "      <td>...</td>\n",
       "      <td>...</td>\n",
       "      <td>...</td>\n",
       "      <td>...</td>\n",
       "      <td>...</td>\n",
       "      <td>...</td>\n",
       "      <td>...</td>\n",
       "      <td>...</td>\n",
       "      <td>...</td>\n",
       "      <td>...</td>\n",
       "    </tr>\n",
       "    <tr>\n",
       "      <th>17583</th>\n",
       "      <td>Adam Dunbar</td>\n",
       "      <td>Republic of Ireland</td>\n",
       "      <td>NaN</td>\n",
       "      <td>Sub</td>\n",
       "      <td>183 cm</td>\n",
       "      <td>82 kg</td>\n",
       "      <td>Right</td>\n",
       "      <td>19</td>\n",
       "      <td>Medium / Medium</td>\n",
       "      <td>1</td>\n",
       "      <td>...</td>\n",
       "      <td>27</td>\n",
       "      <td>56</td>\n",
       "      <td>14</td>\n",
       "      <td>16</td>\n",
       "      <td>13</td>\n",
       "      <td>13</td>\n",
       "      <td>11</td>\n",
       "      <td>13</td>\n",
       "      <td>15</td>\n",
       "      <td>12</td>\n",
       "    </tr>\n",
       "    <tr>\n",
       "      <th>17584</th>\n",
       "      <td>Dylan McGoey</td>\n",
       "      <td>Republic of Ireland</td>\n",
       "      <td>NaN</td>\n",
       "      <td>Sub</td>\n",
       "      <td>185 cm</td>\n",
       "      <td>80 kg</td>\n",
       "      <td>Right</td>\n",
       "      <td>19</td>\n",
       "      <td>Medium / Medium</td>\n",
       "      <td>2</td>\n",
       "      <td>...</td>\n",
       "      <td>28</td>\n",
       "      <td>53</td>\n",
       "      <td>12</td>\n",
       "      <td>17</td>\n",
       "      <td>12</td>\n",
       "      <td>11</td>\n",
       "      <td>12</td>\n",
       "      <td>13</td>\n",
       "      <td>16</td>\n",
       "      <td>12</td>\n",
       "    </tr>\n",
       "    <tr>\n",
       "      <th>17585</th>\n",
       "      <td>Tommy Ouldridge</td>\n",
       "      <td>England</td>\n",
       "      <td>NaN</td>\n",
       "      <td>Res</td>\n",
       "      <td>173 cm</td>\n",
       "      <td>61 kg</td>\n",
       "      <td>Right</td>\n",
       "      <td>18</td>\n",
       "      <td>High / Medium</td>\n",
       "      <td>2</td>\n",
       "      <td>...</td>\n",
       "      <td>54</td>\n",
       "      <td>61</td>\n",
       "      <td>41</td>\n",
       "      <td>44</td>\n",
       "      <td>28</td>\n",
       "      <td>42</td>\n",
       "      <td>35</td>\n",
       "      <td>36</td>\n",
       "      <td>42</td>\n",
       "      <td>37</td>\n",
       "    </tr>\n",
       "    <tr>\n",
       "      <th>17586</th>\n",
       "      <td>Mark Foden</td>\n",
       "      <td>Scotland</td>\n",
       "      <td>NaN</td>\n",
       "      <td>Sub</td>\n",
       "      <td>180 cm</td>\n",
       "      <td>80 kg</td>\n",
       "      <td>Right</td>\n",
       "      <td>21</td>\n",
       "      <td>Medium / Medium</td>\n",
       "      <td>3</td>\n",
       "      <td>...</td>\n",
       "      <td>34</td>\n",
       "      <td>48</td>\n",
       "      <td>15</td>\n",
       "      <td>23</td>\n",
       "      <td>14</td>\n",
       "      <td>12</td>\n",
       "      <td>13</td>\n",
       "      <td>12</td>\n",
       "      <td>24</td>\n",
       "      <td>12</td>\n",
       "    </tr>\n",
       "    <tr>\n",
       "      <th>17587</th>\n",
       "      <td>Barry Richardson</td>\n",
       "      <td>England</td>\n",
       "      <td>NaN</td>\n",
       "      <td>Sub</td>\n",
       "      <td>185 cm</td>\n",
       "      <td>77 kg</td>\n",
       "      <td>Right</td>\n",
       "      <td>47</td>\n",
       "      <td>Medium / Medium</td>\n",
       "      <td>2</td>\n",
       "      <td>...</td>\n",
       "      <td>38</td>\n",
       "      <td>51</td>\n",
       "      <td>12</td>\n",
       "      <td>13</td>\n",
       "      <td>11</td>\n",
       "      <td>16</td>\n",
       "      <td>12</td>\n",
       "      <td>11</td>\n",
       "      <td>22</td>\n",
       "      <td>12</td>\n",
       "    </tr>\n",
       "  </tbody>\n",
       "</table>\n",
       "<p>17588 rows × 39 columns</p>\n",
       "</div>"
      ],
      "text/plain": [
       "                    Name          Nationality National_Position Club_Position  \\\n",
       "0      Cristiano Ronaldo             Portugal                LS            LW   \n",
       "1           Lionel Messi            Argentina                RW            RW   \n",
       "2                 Neymar               Brazil                LW            LW   \n",
       "3            Luis Suárez              Uruguay                LS            ST   \n",
       "4           Manuel Neuer              Germany                GK            GK   \n",
       "...                  ...                  ...               ...           ...   \n",
       "17583        Adam Dunbar  Republic of Ireland               NaN           Sub   \n",
       "17584       Dylan McGoey  Republic of Ireland               NaN           Sub   \n",
       "17585    Tommy Ouldridge              England               NaN           Res   \n",
       "17586         Mark Foden             Scotland               NaN           Sub   \n",
       "17587   Barry Richardson              England               NaN           Sub   \n",
       "\n",
       "       Height Weight Preffered_Foot  Age        Work_Rate  Weak_foot  ...  \\\n",
       "0      185 cm  80 kg          Right   32       High / Low          4  ...   \n",
       "1      170 cm  72 kg           Left   29  Medium / Medium          4  ...   \n",
       "2      174 cm  68 kg          Right   25    High / Medium          5  ...   \n",
       "3      182 cm  85 kg          Right   30    High / Medium          4  ...   \n",
       "4      193 cm  92 kg          Right   31  Medium / Medium          4  ...   \n",
       "...       ...    ...            ...  ...              ...        ...  ...   \n",
       "17583  183 cm  82 kg          Right   19  Medium / Medium          1  ...   \n",
       "17584  185 cm  80 kg          Right   19  Medium / Medium          2  ...   \n",
       "17585  173 cm  61 kg          Right   18    High / Medium          2  ...   \n",
       "17586  180 cm  80 kg          Right   21  Medium / Medium          3  ...   \n",
       "17587  185 cm  77 kg          Right   47  Medium / Medium          2  ...   \n",
       "\n",
       "       Agility  Jumping  Heading  Shot_Power  Finishing  Long_Shots  Curve  \\\n",
       "0           90       95       85          92         93          90     81   \n",
       "1           90       68       71          85         95          88     89   \n",
       "2           96       61       62          78         89          77     79   \n",
       "3           86       69       77          87         94          86     86   \n",
       "4           52       78       25          25         13          16     14   \n",
       "...        ...      ...      ...         ...        ...         ...    ...   \n",
       "17583       27       56       14          16         13          13     11   \n",
       "17584       28       53       12          17         12          11     12   \n",
       "17585       54       61       41          44         28          42     35   \n",
       "17586       34       48       15          23         14          12     13   \n",
       "17587       38       51       12          13         11          16     12   \n",
       "\n",
       "       Freekick_Accuracy  Penalties  Volleys  \n",
       "0                     76         85       88  \n",
       "1                     90         74       85  \n",
       "2                     84         81       83  \n",
       "3                     84         85       88  \n",
       "4                     11         47       11  \n",
       "...                  ...        ...      ...  \n",
       "17583                 13         15       12  \n",
       "17584                 13         16       12  \n",
       "17585                 36         42       37  \n",
       "17586                 12         24       12  \n",
       "17587                 11         22       12  \n",
       "\n",
       "[17588 rows x 39 columns]"
      ]
     },
     "execution_count": 2,
     "metadata": {},
     "output_type": "execute_result"
    }
   ],
   "source": [
    "df_players = pd.read_csv('stats_players.csv')\n",
    "df_players"
   ]
  },
  {
   "cell_type": "markdown",
   "metadata": {
    "id": "eILYmC8_L-xD"
   },
   "source": [
    "De la tabla se reconoce:\n",
    "\n",
    "1. `Name`: Nombre del jugador\n",
    "2. `Nationality`: Nacionalidad del jugador\n",
    "3. `National_Position`: Posición en la selección, este valor solo existe cuando el jugador es seleccionado nacional.\n",
    "4. `Club_Position`: Posición del jugador. Este parámetro tiene valor en gran parte de los jugadores, existen casos como `Res` o `Sub` que no los deberá considerar en la respectiva sección.\n",
    "5. `Height`: Altura del jugador en centímetros. Si nota esta variable tiene un string, transforme a int.\n",
    "6. `Weight`: Peso del jugador en kilogramos. Si nota esta variable tiene un string, transforme a int.\n",
    "7. `Preffered_Foot`: Pie con que prefiere patear.\n",
    "8. `Age`: Edad\n",
    "9. `Work_Rate`: Frecuencia con que trabaja.\n",
    "\n",
    "Mientras que el resto de las características representan estadísticas personales (de acuerdo a la habilidad) para cada uno de los jugadores.\n"
   ]
  },
  {
   "cell_type": "markdown",
   "metadata": {
    "id": "2R3b7Qe501t5"
   },
   "source": [
    "## 1.1 Predicción de seleccionados nacionales. (2 puntos)\n",
    "\n",
    "<p align=\"center\">\n",
    "  <img src=\"https://drive.google.com/uc?export=view&id=1BnO4tyh3vM2P199Ec9s3JjngQ4qQ9seP\"\n",
    "\" width=\"300\">\n",
    "</p>\n"
   ]
  },
  {
   "cell_type": "markdown",
   "metadata": {
    "id": "PIe_Ha58pQRC"
   },
   "source": [
    "### 1.1.1 Generación de Labels para la Clasificación"
   ]
  },
  {
   "cell_type": "markdown",
   "metadata": {
    "id": "qqKb0I6wHktb"
   },
   "source": [
    "Tras el trágico despido de la mítica mascota de la población de Maipú, *Renacín*, decide adentrarse en la predicción futbolera. Para esto, utilizando los datos cargados en las celdas anteriores, le consulta si es posible predecir **si un jugador de football será seleccionado nacional en base a sus estadísticas**\n",
    "\n",
    "En este primer experimento de clasificación comience generando las labels para la clasificación. Para esto, trabaje sobre el atributo ```National_Position``` suponiendo que los valores nulos son jugadores no seleccionados para representar a su país. Hecho esto, ¿Como se distribuyen los datos para cada clase?, comente lo que observa.\n"
   ]
  },
  {
   "cell_type": "code",
   "execution_count": 3,
   "metadata": {
    "id": "uwKaIuho4lqn"
   },
   "outputs": [],
   "source": [
    "### Código aquí ###\n",
    "def etiqueta(dato):\n",
    "    if dato != 0:\n",
    "        return 1\n",
    "    else:\n",
    "        return dato\n",
    "    \n",
    "df_players[\"National_Position\"] = df_players[\"National_Position\"].fillna(0).apply(etiqueta)"
   ]
  },
  {
   "cell_type": "code",
   "execution_count": 4,
   "metadata": {
    "id": "OgHTWohiNFJj"
   },
   "outputs": [
    {
     "name": "stdout",
     "output_type": "stream",
     "text": [
      "Cantidad de datos etiquetados como seleccionados (1): 1075\n",
      "Cantidad de datos etiquetados como no-seleccionados (0): 16513\n"
     ]
    }
   ],
   "source": [
    "print(f\"Cantidad de datos etiquetados como seleccionados (1): {(df_players.National_Position == 1).sum()}\")\n",
    "print(f\"Cantidad de datos etiquetados como no-seleccionados (0): {(df_players.National_Position == 0).sum()}\")"
   ]
  },
  {
   "cell_type": "markdown",
   "metadata": {},
   "source": [
    "> Vemos en este caso 2 clases, aquellos jugadores seleccionados (1) con un total de 1075 y los jugadores no selecionados (2) con un total de 16513 jugadores. Las clases se encuentran muy desbalanceadas, con un ratio de 1:16 aproximadamente. "
   ]
  },
  {
   "cell_type": "markdown",
   "metadata": {
    "id": "0F70XPRFpWH9"
   },
   "source": [
    "### 1.1.2 Camino a la Clasificación\n",
    "\n",
    "<p align=\"center\">\n",
    "  <img src=\"http://vignette3.wikia.nocookie.net/inciclopedia/images/c/cd/Patada_Medel_Messi.gif/revision/latest?cb=20150705215005\" width=\"300\">\n",
    "</p>\n",
    "\n"
   ]
  },
  {
   "cell_type": "markdown",
   "metadata": {
    "id": "Qb3td7-8a7MG"
   },
   "source": [
    "Si bien los atributos de interés se encuentran en su mayoría limpios, existen valores mal ingresados al `DataFrame`. Para esto: \n",
    "\n",
    "1. Transforme a enteros todos los valores numéricos de la tabla que considere pertinentes. Por ejemplo: El peso aparece como strings y además estos continene la unidad. En este caso, debería transformar estos valores a enteros. Puede usar directamente funciones sobre el DataFrame (como `apply`) o el submódulo de las Series `str`.\n",
    "2. Luego, aplique un ```ColumnTransformer``` para pre-procesar los datos del DataFrame de la siguiente forma:\n",
    "\n",
    "Aplicar ```OneHotEncoder()``` sobre los atributos:\n",
    "\n",
    "```python\n",
    "['Preffered_Foot', 'Work_Rate']\n",
    "```\n",
    "\n",
    "Aplicar ```MinMaxScaler()``` sobre los atributos:\n",
    "\n",
    "```python\n",
    "['Age']\n",
    "```\n",
    "\n",
    "Aplicar ```StandardScaler()``` sobre los atributos:\n",
    "\n",
    "```python\n",
    "['Height', 'Weak_foot', 'Skill_Moves', 'Ball_Control', 'Dribbling', 'Marking', 'Sliding_Tackle', 'Standing_Tackle', 'Aggression', 'Reactions','Interceptions', 'Vision', 'Composure', 'Crossing', 'Short_Pass', 'Long_Pass', 'Acceleration', 'Speed', 'Stamina', 'Strength', 'Balance', 'Agility', 'Jumping', 'Heading', 'Shot_Power', 'Finishing', 'Long_Shots', 'Curve', 'Freekick_Accuracy', 'Penalties', 'Volleys']\n",
    "```\n",
    "\n",
    "**Nota 2**: Puede copiar/pegar directamente las columnas en el `ColumnTransformer`.\n",
    "\n",
    "\n",
    "Hecho lo anterior, defina al menos 3 pipelines para la clasificación donde anexe las transformaciones señaladas variando entre cada pipeline solo los clasificadores (puede escoger cualquiera de los clasificadores vistos en clases).\n",
    "\n",
    "**To-Do:**\n",
    "\n",
    "- [X] Modificar valores mal ingresados.\n",
    "- [X] Aplicar ```ColumnTransformer``` sobre los datos a través de un pipeline.\n",
    "- [X] Justificar porque se utilizan estos pre-procesamientos.\n",
    "- [X] Crear 3 pipelines con diferentes clasificadores.\n",
    "- [X] No entrenar los datos aún.\n",
    "\n",
    "**Nota:** No es necesario entrenar los clasificadores aún."
   ]
  },
  {
   "cell_type": "code",
   "execution_count": 5,
   "metadata": {},
   "outputs": [
    {
     "data": {
      "text/html": [
       "<div>\n",
       "<style scoped>\n",
       "    .dataframe tbody tr th:only-of-type {\n",
       "        vertical-align: middle;\n",
       "    }\n",
       "\n",
       "    .dataframe tbody tr th {\n",
       "        vertical-align: top;\n",
       "    }\n",
       "\n",
       "    .dataframe thead th {\n",
       "        text-align: right;\n",
       "    }\n",
       "</style>\n",
       "<table border=\"1\" class=\"dataframe\">\n",
       "  <thead>\n",
       "    <tr style=\"text-align: right;\">\n",
       "      <th></th>\n",
       "      <th>Name</th>\n",
       "      <th>Nationality</th>\n",
       "      <th>National_Position</th>\n",
       "      <th>Club_Position</th>\n",
       "      <th>Height</th>\n",
       "      <th>Weight</th>\n",
       "      <th>Preffered_Foot</th>\n",
       "      <th>Age</th>\n",
       "      <th>Work_Rate</th>\n",
       "      <th>Weak_foot</th>\n",
       "      <th>...</th>\n",
       "      <th>Agility</th>\n",
       "      <th>Jumping</th>\n",
       "      <th>Heading</th>\n",
       "      <th>Shot_Power</th>\n",
       "      <th>Finishing</th>\n",
       "      <th>Long_Shots</th>\n",
       "      <th>Curve</th>\n",
       "      <th>Freekick_Accuracy</th>\n",
       "      <th>Penalties</th>\n",
       "      <th>Volleys</th>\n",
       "    </tr>\n",
       "  </thead>\n",
       "  <tbody>\n",
       "    <tr>\n",
       "      <th>0</th>\n",
       "      <td>Cristiano Ronaldo</td>\n",
       "      <td>Portugal</td>\n",
       "      <td>1</td>\n",
       "      <td>LW</td>\n",
       "      <td>185 cm</td>\n",
       "      <td>80 kg</td>\n",
       "      <td>Right</td>\n",
       "      <td>32</td>\n",
       "      <td>High / Low</td>\n",
       "      <td>4</td>\n",
       "      <td>...</td>\n",
       "      <td>90</td>\n",
       "      <td>95</td>\n",
       "      <td>85</td>\n",
       "      <td>92</td>\n",
       "      <td>93</td>\n",
       "      <td>90</td>\n",
       "      <td>81</td>\n",
       "      <td>76</td>\n",
       "      <td>85</td>\n",
       "      <td>88</td>\n",
       "    </tr>\n",
       "    <tr>\n",
       "      <th>1</th>\n",
       "      <td>Lionel Messi</td>\n",
       "      <td>Argentina</td>\n",
       "      <td>1</td>\n",
       "      <td>RW</td>\n",
       "      <td>170 cm</td>\n",
       "      <td>72 kg</td>\n",
       "      <td>Left</td>\n",
       "      <td>29</td>\n",
       "      <td>Medium / Medium</td>\n",
       "      <td>4</td>\n",
       "      <td>...</td>\n",
       "      <td>90</td>\n",
       "      <td>68</td>\n",
       "      <td>71</td>\n",
       "      <td>85</td>\n",
       "      <td>95</td>\n",
       "      <td>88</td>\n",
       "      <td>89</td>\n",
       "      <td>90</td>\n",
       "      <td>74</td>\n",
       "      <td>85</td>\n",
       "    </tr>\n",
       "    <tr>\n",
       "      <th>2</th>\n",
       "      <td>Neymar</td>\n",
       "      <td>Brazil</td>\n",
       "      <td>1</td>\n",
       "      <td>LW</td>\n",
       "      <td>174 cm</td>\n",
       "      <td>68 kg</td>\n",
       "      <td>Right</td>\n",
       "      <td>25</td>\n",
       "      <td>High / Medium</td>\n",
       "      <td>5</td>\n",
       "      <td>...</td>\n",
       "      <td>96</td>\n",
       "      <td>61</td>\n",
       "      <td>62</td>\n",
       "      <td>78</td>\n",
       "      <td>89</td>\n",
       "      <td>77</td>\n",
       "      <td>79</td>\n",
       "      <td>84</td>\n",
       "      <td>81</td>\n",
       "      <td>83</td>\n",
       "    </tr>\n",
       "    <tr>\n",
       "      <th>3</th>\n",
       "      <td>Luis Suárez</td>\n",
       "      <td>Uruguay</td>\n",
       "      <td>1</td>\n",
       "      <td>ST</td>\n",
       "      <td>182 cm</td>\n",
       "      <td>85 kg</td>\n",
       "      <td>Right</td>\n",
       "      <td>30</td>\n",
       "      <td>High / Medium</td>\n",
       "      <td>4</td>\n",
       "      <td>...</td>\n",
       "      <td>86</td>\n",
       "      <td>69</td>\n",
       "      <td>77</td>\n",
       "      <td>87</td>\n",
       "      <td>94</td>\n",
       "      <td>86</td>\n",
       "      <td>86</td>\n",
       "      <td>84</td>\n",
       "      <td>85</td>\n",
       "      <td>88</td>\n",
       "    </tr>\n",
       "    <tr>\n",
       "      <th>4</th>\n",
       "      <td>Manuel Neuer</td>\n",
       "      <td>Germany</td>\n",
       "      <td>1</td>\n",
       "      <td>GK</td>\n",
       "      <td>193 cm</td>\n",
       "      <td>92 kg</td>\n",
       "      <td>Right</td>\n",
       "      <td>31</td>\n",
       "      <td>Medium / Medium</td>\n",
       "      <td>4</td>\n",
       "      <td>...</td>\n",
       "      <td>52</td>\n",
       "      <td>78</td>\n",
       "      <td>25</td>\n",
       "      <td>25</td>\n",
       "      <td>13</td>\n",
       "      <td>16</td>\n",
       "      <td>14</td>\n",
       "      <td>11</td>\n",
       "      <td>47</td>\n",
       "      <td>11</td>\n",
       "    </tr>\n",
       "  </tbody>\n",
       "</table>\n",
       "<p>5 rows × 39 columns</p>\n",
       "</div>"
      ],
      "text/plain": [
       "                Name Nationality  National_Position Club_Position  Height  \\\n",
       "0  Cristiano Ronaldo    Portugal                  1            LW  185 cm   \n",
       "1       Lionel Messi   Argentina                  1            RW  170 cm   \n",
       "2             Neymar      Brazil                  1            LW  174 cm   \n",
       "3        Luis Suárez     Uruguay                  1            ST  182 cm   \n",
       "4       Manuel Neuer     Germany                  1            GK  193 cm   \n",
       "\n",
       "  Weight Preffered_Foot  Age        Work_Rate  Weak_foot  ...  Agility  \\\n",
       "0  80 kg          Right   32       High / Low          4  ...       90   \n",
       "1  72 kg           Left   29  Medium / Medium          4  ...       90   \n",
       "2  68 kg          Right   25    High / Medium          5  ...       96   \n",
       "3  85 kg          Right   30    High / Medium          4  ...       86   \n",
       "4  92 kg          Right   31  Medium / Medium          4  ...       52   \n",
       "\n",
       "   Jumping  Heading  Shot_Power  Finishing  Long_Shots  Curve  \\\n",
       "0       95       85          92         93          90     81   \n",
       "1       68       71          85         95          88     89   \n",
       "2       61       62          78         89          77     79   \n",
       "3       69       77          87         94          86     86   \n",
       "4       78       25          25         13          16     14   \n",
       "\n",
       "   Freekick_Accuracy  Penalties  Volleys  \n",
       "0                 76         85       88  \n",
       "1                 90         74       85  \n",
       "2                 84         81       83  \n",
       "3                 84         85       88  \n",
       "4                 11         47       11  \n",
       "\n",
       "[5 rows x 39 columns]"
      ]
     },
     "execution_count": 5,
     "metadata": {},
     "output_type": "execute_result"
    }
   ],
   "source": [
    "df_players.head()"
   ]
  },
  {
   "cell_type": "code",
   "execution_count": 18,
   "metadata": {},
   "outputs": [
    {
     "data": {
      "text/plain": [
       "Name                 object\n",
       "Nationality          object\n",
       "National_Position     int64\n",
       "Club_Position        object\n",
       "Height                int64\n",
       "Weight                int64\n",
       "Preffered_Foot       object\n",
       "Age                   int64\n",
       "Work_Rate            object\n",
       "Weak_foot             int64\n",
       "Skill_Moves           int64\n",
       "Ball_Control          int64\n",
       "Dribbling             int64\n",
       "Marking               int64\n",
       "Sliding_Tackle        int64\n",
       "Standing_Tackle       int64\n",
       "Aggression            int64\n",
       "Reactions             int64\n",
       "Interceptions         int64\n",
       "Vision                int64\n",
       "Composure             int64\n",
       "Crossing              int64\n",
       "Short_Pass            int64\n",
       "Long_Pass             int64\n",
       "Acceleration          int64\n",
       "Speed                 int64\n",
       "Stamina               int64\n",
       "Strength              int64\n",
       "Balance               int64\n",
       "Agility               int64\n",
       "Jumping               int64\n",
       "Heading               int64\n",
       "Shot_Power            int64\n",
       "Finishing             int64\n",
       "Long_Shots            int64\n",
       "Curve                 int64\n",
       "Freekick_Accuracy     int64\n",
       "Penalties             int64\n",
       "Volleys               int64\n",
       "dtype: object"
      ]
     },
     "execution_count": 18,
     "metadata": {},
     "output_type": "execute_result"
    }
   ],
   "source": [
    "df_players.dtypes"
   ]
  },
  {
   "cell_type": "code",
   "execution_count": 33,
   "metadata": {},
   "outputs": [
    {
     "ename": "TypeError",
     "evalue": "histogram() got an unexpected keyword argument 'density'",
     "output_type": "error",
     "traceback": [
      "\u001b[1;31m---------------------------------------------------------------------------\u001b[0m",
      "\u001b[1;31mTypeError\u001b[0m                                 Traceback (most recent call last)",
      "\u001b[1;32m<ipython-input-33-5f11a113fa61>\u001b[0m in \u001b[0;36m<module>\u001b[1;34m\u001b[0m\n\u001b[0;32m      1\u001b[0m \u001b[1;31m#Vemos la distribución de los datos en\u001b[0m\u001b[1;33m\u001b[0m\u001b[1;33m\u001b[0m\u001b[1;33m\u001b[0m\u001b[0m\n\u001b[1;32m----> 2\u001b[1;33m \u001b[0mpx\u001b[0m\u001b[1;33m.\u001b[0m\u001b[0mhistogram\u001b[0m\u001b[1;33m(\u001b[0m\u001b[0mdf_players\u001b[0m\u001b[1;33m[\u001b[0m\u001b[1;34m\"Age\"\u001b[0m\u001b[1;33m]\u001b[0m\u001b[1;33m,\u001b[0m\u001b[0mdensity\u001b[0m\u001b[1;33m=\u001b[0m\u001b[1;32mTrue\u001b[0m\u001b[1;33m)\u001b[0m\u001b[1;33m\u001b[0m\u001b[1;33m\u001b[0m\u001b[0m\n\u001b[0m",
      "\u001b[1;31mTypeError\u001b[0m: histogram() got an unexpected keyword argument 'density'"
     ]
    }
   ],
   "source": [
    "#Vemos la distribución de los datos en \n",
    "px.histogram(df_players[\"Age\"],density=True)"
   ]
  },
  {
   "cell_type": "code",
   "execution_count": 7,
   "metadata": {},
   "outputs": [],
   "source": [
    "### Código aquí ###\n",
    "#Transformamos a número las columnas de Altura y Peso \n",
    "df_players[\"Height\"] = df_players[\"Height\"].apply(lambda x: int(x.split()[0]))\n",
    "df_players[\"Weight\"] = df_players[\"Weight\"].apply(lambda x: int(x.split()[0]))"
   ]
  },
  {
   "cell_type": "code",
   "execution_count": 74,
   "metadata": {
    "id": "cS-ZiW6YUgXS"
   },
   "outputs": [],
   "source": [
    "from sklearn.svm import SVC\n",
    "from sklearn.naive_bayes import GaussianNB\n",
    "from sklearn.linear_model import LogisticRegression\n",
    "#Ahora creamos el transformer y el pipeline\n",
    "preprocessing_transformer = ColumnTransformer(\n",
    "    transformers=[\n",
    "        ('OneHotEncoder', OneHotEncoder(),  ['Preffered_Foot', 'Work_Rate']),\n",
    "        ('StandardScaler', StandardScaler(),\n",
    "         ['Height', 'Weak_foot', 'Skill_Moves', \n",
    "          'Ball_Control', 'Dribbling', 'Marking',\n",
    "          'Sliding_Tackle', 'Standing_Tackle', 'Aggression',\n",
    "          'Reactions','Interceptions', 'Vision', 'Composure',\n",
    "          'Crossing', 'Short_Pass', 'Long_Pass', 'Acceleration',\n",
    "          'Speed', 'Stamina', 'Strength', 'Balance', 'Agility',\n",
    "          'Jumping', 'Heading', 'Shot_Power', 'Finishing', \n",
    "          'Long_Shots', 'Curve', 'Freekick_Accuracy',\n",
    "          'Penalties', 'Volleys']), \n",
    "        ('MinMaxScaler', MinMaxScaler(), ['Age'])])\n",
    "\n",
    "#Creamos ahora los pipelines \n",
    "Pipe1 = Pipeline([('Preprocessing', preprocessing_transformer),('SVC', SVC())])\n",
    "Pipe2 = Pipeline([('Preprocessing', preprocessing_transformer),('NB', GaussianNB())])\n",
    "Pipe3 = Pipeline([('Preprocessing', preprocessing_transformer),('LogReg', LogisticRegression(max_iter = 1000))])"
   ]
  },
  {
   "cell_type": "markdown",
   "metadata": {},
   "source": [
    "> Se realizó un cambio en los valores para Height y Weight para que fueran reconocidos efectivamente como valores, por otro lado, para las variables categóricas se utilizó un one hot encoding para pasarla a valores numéricos (no son ordinales como para haber utilizado un labelencoder), para las variables numéricas bien portadas (gaussianas) se utilizó un escalamiento standard para llevar los datos a media 0 y desviación 1 , finalmente para la variable \"Age\" se llevó al rango 0,1 pues como se puede ver en la gráfica, no tiene un comportamiento gaussiano y nos gustaría mantener la proporción de distancias entre los datos."
   ]
  },
  {
   "cell_type": "markdown",
   "metadata": {
    "id": "dnC5arxmR93Y"
   },
   "source": [
    "### 1.1.3 Métricas de evaluación + Opcional\n",
    "\n",
    "<p align=\"center\">\n",
    "  <img src=\"https://media4.giphy.com/media/3orif8r5vpbAdQU3iU/200w.gif?cid=82a1493btc1h43n1h4c59p13kjv6adugso4lo4292zbgt66b&rid=200w.gif&ct=g\" width=\"300\">\n",
    "</p>"
   ]
  },
  {
   "cell_type": "markdown",
   "metadata": {
    "id": "gecJEKsrXMjg"
   },
   "source": [
    "Interesado por saber que tan bien funciona su clasificador, Renacin le solicita que construya **a mano** las siguientes métricas de evaluación para el caso de **clasificación binaria**:\n",
    "\n",
    "- Accuracy (Exactitud):\n",
    "\n",
    "$$Accuracy = \\dfrac{número \\, de \\, predicciones \\, correctas}{número \\, de \\,predicciones \\, totales}$$\n",
    "\n",
    "\n",
    "- Precision: \n",
    "\n",
    "$$Precision = \\dfrac{Verdaderos \\, positivos}{Verdaderos \\, positivos + Falsos \\, positivos}$$\n",
    "\n",
    "- Recall:\n",
    "\n",
    "$$Recall = \\dfrac{Verdaderos \\, positivos}{Verdaderos \\, positivos + Falsos \\,negativos}$$\n",
    "\n",
    "<p align=\"center\">\n",
    "  <img src=\"https://www.researchgate.net/publication/336402347/figure/fig3/AS:812472659349505@1570719985505/Calculation-of-Precision-Recall-and-Accuracy-in-the-confusion-matrix.ppm\" width=\"350\">\n",
    "</p>\n",
    "\n",
    "**To-Do:**\n",
    "\n",
    "- [X] Crear funciones para las métricas para clasificación binaria: Accuracy, Precision y Recall. \n",
    "- [X] Compruebe el correcto funcionamiento de sus métricas a través de los test.\n",
    "\n",
    "**Hint:** Utilice confusion_matrix para obtener TP, FP, FN y TN.\n",
    "\n"
   ]
  },
  {
   "cell_type": "code",
   "execution_count": 88,
   "metadata": {
    "id": "kaR9cTsecVZt"
   },
   "outputs": [],
   "source": [
    "from sklearn.metrics import confusion_matrix \n",
    "def accuracy(y_true, y_pred):\n",
    "    tn, fp, fn, tp = confusion_matrix(y_true,y_pred).ravel()\n",
    "    return (tp+tn)/(tn+fp+fn+tp)\n",
    "\n",
    "def precision(y_true, y_pred):\n",
    "    tn, fp, fn, tp = confusion_matrix(y_true,y_pred).ravel()\n",
    "    if tp == 0:\n",
    "        return 0\n",
    "    else:\n",
    "        return (tp)/(tp+fp)\n",
    "\n",
    "def recall(y_true, y_pred):\n",
    "    tn, fp, fn, tp = confusion_matrix(y_true,y_pred).ravel()\n",
    "    return (tp)/(tp+fn)\n"
   ]
  },
  {
   "cell_type": "code",
   "execution_count": 89,
   "metadata": {
    "id": "9HfidIAmcy6r"
   },
   "outputs": [],
   "source": [
    "from sklearn.metrics import recall_score\n",
    "from sklearn.metrics import precision_score\n",
    "\n",
    "y_true = [0, 1, 0, 0, 1, 0]\n",
    "y_pred = [0, 0, 1, 0, 0, 1]\n",
    "\n",
    "# Tests de metricas\n",
    "assert accuracy_score(y_true, y_pred) == accuracy(y_true, y_pred)\n",
    "assert recall_score(y_true, y_pred) == recall(y_true, y_pred)\n",
    "assert precision_score(y_true, y_pred) == precision(y_true, y_pred)"
   ]
  },
  {
   "cell_type": "markdown",
   "metadata": {
    "id": "MpKq6oO3vCNL"
   },
   "source": [
    "### 1.1.4 Entrenemos los pipelines\n",
    "\n",
    "<p align=\"center\">\n",
    "  <img src=\"https://i.gifer.com/7Cc8.gif\" width=\"300\">\n",
    "</p>\n"
   ]
  },
  {
   "cell_type": "markdown",
   "metadata": {
    "id": "wE_1aZaIvOeN"
   },
   "source": [
    "Entrene en base al pipeline generado en los pasos anteriores, procure separar los datos de entrenamiento en un conjunto de entrenamiento y de prueba (la proporción queda a su juicio). Una vez entrenado, muestre los resultados para cada uno de los clasificadores y comente lo que observa de los resultados obtenidos usando las métricas creadas anteriormente, ¿podrían mejorarse los resultados?\n",
    "\n",
    "**To-Do**:\n",
    "\n",
    "- [X] Separar el conjunto de datos en entrenamiento y de prueba.\n",
    "- [X] Entrenar el pipeline.\n",
    "- [X] Utilizar las métricas codificadas anteriormente y analizar los resultados.\n"
   ]
  },
  {
   "cell_type": "code",
   "execution_count": 110,
   "metadata": {
    "id": "A6Sr8w6vUrGH"
   },
   "outputs": [
    {
     "data": {
      "text/html": [
       "<div>\n",
       "<style scoped>\n",
       "    .dataframe tbody tr th:only-of-type {\n",
       "        vertical-align: middle;\n",
       "    }\n",
       "\n",
       "    .dataframe tbody tr th {\n",
       "        vertical-align: top;\n",
       "    }\n",
       "\n",
       "    .dataframe thead th {\n",
       "        text-align: right;\n",
       "    }\n",
       "</style>\n",
       "<table border=\"1\" class=\"dataframe\">\n",
       "  <thead>\n",
       "    <tr style=\"text-align: right;\">\n",
       "      <th></th>\n",
       "      <th>SVC</th>\n",
       "      <th>NB</th>\n",
       "      <th>LogReg</th>\n",
       "    </tr>\n",
       "  </thead>\n",
       "  <tbody>\n",
       "    <tr>\n",
       "      <th>Accuracy</th>\n",
       "      <td>0.938791</td>\n",
       "      <td>0.796286</td>\n",
       "      <td>0.940307</td>\n",
       "    </tr>\n",
       "    <tr>\n",
       "      <th>Recall</th>\n",
       "      <td>0.000000</td>\n",
       "      <td>0.510836</td>\n",
       "      <td>0.055728</td>\n",
       "    </tr>\n",
       "    <tr>\n",
       "      <th>Precision</th>\n",
       "      <td>0.000000</td>\n",
       "      <td>0.152495</td>\n",
       "      <td>0.642857</td>\n",
       "    </tr>\n",
       "  </tbody>\n",
       "</table>\n",
       "</div>"
      ],
      "text/plain": [
       "                SVC        NB    LogReg\n",
       "Accuracy   0.938791  0.796286  0.940307\n",
       "Recall     0.000000  0.510836  0.055728\n",
       "Precision  0.000000  0.152495  0.642857"
      ]
     },
     "execution_count": 110,
     "metadata": {},
     "output_type": "execute_result"
    }
   ],
   "source": [
    "### Código aquí ###\n",
    "#Separamos la data \n",
    "X_train, X_test, y_train, y_test = train_test_split(df_players.drop(columns = ['National_Position']),\n",
    "                                                    df_players[\"National_Position\"], shuffle=True, \n",
    "                                                   test_size=0.3, random_state=666 , stratify = df_players[\"National_Position\"])\n",
    "#Revisamos el score de cada uno de los modelos para el conjunto de test \n",
    "#Pipe1.fit(X_train, y_train)\n",
    "#Pipe2.fit(X_train, y_train)\n",
    "#Pipe3.fit(X_train, y_train)\n",
    "#print(f'SVC score en test: {Pipe1.score(X_test,y_test)}') #Accuracy\n",
    "#print(f'GB score en test: {Pipe2.score(X_test,y_test)}') #Accuracy\n",
    "#print(f'LogReg score en test: {Pipe3.score(X_test,y_test)}') #Accuracy\n",
    "\n",
    "#Hacemos fit a los modelos \n",
    "Pipe1.fit(X_train, y_train)\n",
    "Pipe2.fit(X_train, y_train)\n",
    "Pipe3.fit(X_train, y_train)\n",
    "#Hacemos las predicciones de cada uno de los modelos\n",
    "\n",
    "y_pred1 = Pipe1.predict(X_test)\n",
    "y_pred2 = Pipe2.predict(X_test)\n",
    "y_pred3 = Pipe3.predict(X_test)\n",
    "\n",
    "#Definimos el y_true\n",
    "y_true = y_test\n",
    "\n",
    "#Calculamos oas accuracy, recall y precision\n",
    "acc1 = accuracy(y_true,y_pred1)\n",
    "acc2 = accuracy(y_true,y_pred2)\n",
    "acc3 = accuracy(y_true,y_pred3)\n",
    "\n",
    "recall1 = recall(y_true,y_pred1)\n",
    "recall2 = recall(y_true,y_pred2)\n",
    "recall3 = recall(y_true,y_pred3)\n",
    "\n",
    "precision1 = precision(y_true,y_pred1)\n",
    "precision2 = precision(y_true,y_pred2)\n",
    "precision3 = precision(y_true,y_pred3)\n",
    "\n",
    "d = {'SVC': [acc1, recall1, precision1], 'NB': [acc2,recall2,precision2] , 'LogReg': [acc3,recall3,precision3]}\n",
    "resultados = pd.DataFrame(data=d)\n",
    "resultados = resultados.rename(index = {0: \"Accuracy\" , 1: \"Recall\" , 2: \"Precision\" } )\n",
    "resultados\n",
    "\n"
   ]
  },
  {
   "cell_type": "markdown",
   "metadata": {
    "id": "QgSeo0aIx9ow"
   },
   "source": [
    "**Respuesta**:\n",
    "\n",
    "```\n",
    "Comente de resultados observados y si es posible mejorar los resultados.\n",
    "```\n",
    "> Vemos que los modelos tienen una alta accuracy en general pero dado que las clases se encuentran tan desbalanceadas, los modelos predicen en su mayoría 0's. En este sentido, si nos interesa predecir cuales son los jugadores seleccionados nacionales, entonces tenemos que fijarnos en las métricas Recall y Precision pues están consideran la clase positiva 1. El mejor resultado en este caso lo tiene el Gaussian Naive Bayes con el mayor valor para Recall, mientras que para Precision el lugar se lo lleva LogReg. Para mejorar los resultados, es necesario tener más datos de la clase 1 en el conjunto de train lo cual se puede hacer con subsampling u oversampling."
   ]
  },
  {
   "cell_type": "markdown",
   "metadata": {
    "id": "ix97Ho4uOARH"
   },
   "source": [
    "## 1.2 Predicción de posiciones de jugadores. (2 puntos)\n",
    "\n",
    "<p align=\"center\">\n",
    "  <img src=\"https://pbs.twimg.com/media/E1rfA1aWEAYU6Ny.jpg\" width=\"300\">\n",
    "</p>"
   ]
  },
  {
   "cell_type": "markdown",
   "metadata": {
    "id": "oHAwZfV8hMsk"
   },
   "source": [
    "### 1.2.1 Creación de nuevas labels.\n",
    "\n"
   ]
  },
  {
   "cell_type": "markdown",
   "metadata": {
    "id": "zcg_hg5QaqJ6"
   },
   "source": [
    "No conforme con el trabajo de la sección 1.1, Renacin les *ordena* que construyan un clasificador nuevo, pero para predecir la posición de los jugadores del dataset. Para lograr esto, les pide que etiqueten de la siguiente manera los valores que aparecen en el atributo ```Club_Position```, con esto les recalca que no deben utilizar los valores ```Sub``` y ```Res``` de este atributo, pidiendo que agrupen los valores en los siguientes grupos:\n",
    "\n",
    "```python\n",
    "Ataque=['ST', 'CAM','RS','LF','LAM','LS','RF','RAM','CF']\n",
    "MedioCampistas=['RCM','LW', 'RW', 'LCM','LM', 'RM', 'CM']\n",
    "Defensas=['LCB','RB','RCB', 'LDM','LB','CDM','RDM','CB','RWB','LWB']\n",
    "Arquero =['GK']\n",
    "```\n",
    "\n",
    "Con lo señalado, Renacin les señala que no deberian utilizar el label utilizado en la sección 1.1, ya que el problema de clasificación ahora es de posiciones.\n",
    "\n",
    "**To-Do**:\n",
    "\n",
    "- [ ] Aplique las etiquetas de ```Ataque```, ```MedioCampista```, ```Defensa``` y ```Arquero``` en los valores señalados en esta sección.\n",
    "- [ ] Muestre como se distribuyen los datos etiquetados."
   ]
  },
  {
   "cell_type": "code",
   "execution_count": null,
   "metadata": {
    "colab": {
     "base_uri": "https://localhost:8080/"
    },
    "executionInfo": {
     "elapsed": 4,
     "status": "ok",
     "timestamp": 1622155080152,
     "user": {
      "displayName": "IGNACIO ALEJANDRO MEZA",
      "photoUrl": "",
      "userId": "17011121633069169364"
     },
     "user_tz": 240
    },
    "id": "P6hqQN-zRnCM",
    "outputId": "f32befa9-3146-423a-e1ce-e8421f8bd0ee"
   },
   "outputs": [],
   "source": [
    "print(f\"Cantidad de datos etiquetados como delantero: {(df_players.Club_Position == 'Delantero').sum()}\")\n",
    "print(f\"Cantidad de datos etiquetados como defensa: {(df_players.Club_Position == 'Defensa').sum()}\")\n",
    "print(f\"Cantidad de datos etiquetados como medio campistas: {(df_players.Club_Position == 'Medio').sum()}\")\n",
    "print(f\"Cantidad de datos etiquetados como arqueros: {(df_players.Club_Position == 'Arquero').sum()}\")"
   ]
  },
  {
   "cell_type": "markdown",
   "metadata": {
    "id": "_8ofBmMQWvAL"
   },
   "source": [
    "### 1.2.2 Entrenar un pipeline"
   ]
  },
  {
   "cell_type": "markdown",
   "metadata": {
    "id": "hkFJXw6Vasj_"
   },
   "source": [
    "Aplicando el mismo preprocesamiento solicitado en 1.1.2, genere un pipeline con un clasificador a gusto y evalúe al modelo de clasificación utilizando la **librería `scikit-learn`** (esto debido a que este es un problema multi clase y las funciones solicitadas anteriormente era para una clasificación binaria).\n",
    "\n",
    "De los resultados obtenidos, ¿El modelo pudo clasificar mejor este problema o el de la sección 1.1?, Comente sus resultados.\n",
    "\n",
    "**To-Do**:\n",
    "\n",
    "- [ ] Genere un pipeline similar al visto en la sección 1.1.2.\n",
    "- [ ] Aplique las métricas ofrecidas por la librería scikit-learn.\n",
    "- [ ] Responda la pregunta del enunciado."
   ]
  },
  {
   "cell_type": "code",
   "execution_count": null,
   "metadata": {
    "id": "lCMVwaqdYi_V"
   },
   "outputs": [],
   "source": [
    "### Código aquí ###"
   ]
  },
  {
   "cell_type": "markdown",
   "metadata": {
    "id": "jYIGvmRjYh3w"
   },
   "source": [
    "**Respuesta**:\n",
    "\n",
    "```\n",
    "Comente de resultados observados.\n",
    "```"
   ]
  },
  {
   "cell_type": "markdown",
   "metadata": {
    "id": "C-vkB4xoOGtM"
   },
   "source": [
    "## 1.3 Clustering Sobre el Dataset (2 puntos)\n",
    "\n",
    "<p align=\"center\">\n",
    "  <img src=\"https://www.googleapis.com/download/storage/v1/b/kaggle-user-content/o/inbox%2F1832816%2F349289c622faaff3afc517a46fcf4c71%2Fk-means.jpg?generation=1577258176400530&alt=media\" width=\"200\">\n",
    "</p>"
   ]
  },
  {
   "cell_type": "markdown",
   "metadata": {
    "id": "LCOUC4jss148"
   },
   "source": [
    "### 1.3.1 Elección de numero de clusters\n",
    "\n",
    "<p align=\"center\">\n",
    "  <img src=\"https://media1.tenor.com/images/a85e9df2f5784d6513dce853ba9d5755/tenor.gif?itemid=18229271\" width=\"200\">\n",
    "</p>\n",
    "\n",
    "\n"
   ]
  },
  {
   "cell_type": "markdown",
   "metadata": {
    "id": "UZYqQwewJBT4"
   },
   "source": [
    "\n",
    "Entrene un k-means con 3, 4 y 5 clusters. ¿Las agrupaciones son lógicas usando un análisis visual?, Grafique los clusters con el código dispuesto más abajo y comente cual de las opciones presenta una mejor agrupación.\n",
    "\n",
    "En base al análisis realizado, ubique la posición de los cluster en la cancha. Solo señale a que posición equivaldría tomando de referencia:\n",
    "\n",
    "- Ataque\n",
    "- Medio campistas\n",
    "- Defensas\n",
    "- Arquero \n",
    "\n",
    "**To-Do**:\n",
    "\n",
    "- [ ] Escoger un numero de cluster y justificar elección.\n",
    "- [ ] Comentar si las agrupaciones son lógicas a través de un análisis visual.\n",
    "- [ ] Graficar los resultados obtenidos y visualizar las agrupaciones obtenidas.\n"
   ]
  },
  {
   "cell_type": "code",
   "execution_count": null,
   "metadata": {
    "id": "DdhaA2Ok7csU"
   },
   "outputs": [],
   "source": [
    "from umap import UMAP\n",
    "\n",
    "def graficar_clusters(clusters, preprocessed_data = preprocessed_data,posicion = df_players.Club_Position.values):\n",
    "  # Entreguele a esta función solo los clusters, el resto de parametros debería funcionar por default.\n",
    "  umap = UMAP()\n",
    "  projections = umap.fit_transform(preprocessed_data)\n",
    "  fig = px.scatter(x=projections[:,0], y=projections[:,1], color=clusters, hover_data={'posicion': posicion}) \n",
    "  fig.show()"
   ]
  },
  {
   "cell_type": "code",
   "execution_count": null,
   "metadata": {
    "id": "RpjtdoWtZIsX"
   },
   "outputs": [],
   "source": [
    "### Código aquí ###"
   ]
  },
  {
   "cell_type": "markdown",
   "metadata": {
    "id": "Ofzi66SELNof"
   },
   "source": [
    "**Respuesta**:\n",
    "\n",
    "```\n",
    "Comente de resultados observados.\n",
    "```"
   ]
  },
  {
   "cell_type": "markdown",
   "metadata": {
    "id": "GtG74Cphq56p"
   },
   "source": [
    "### 1.3.2 Búsqueda Número Óptimo de Clusters: Método del Codo **(Opcional 0.5 puntos)**\n",
    "\n",
    "<p align=\"center\">\n",
    "  <img src=\"https://c.tenor.com/fk4p5HzTi5gAAAAC/elbow-high-five.gif\" width=\"300\">\n",
    "</p>\n",
    "\n",
    "\n",
    "\n"
   ]
  },
  {
   "cell_type": "markdown",
   "metadata": {
    "id": "5srcL8mUav91"
   },
   "source": [
    "Renancin muy indeciso de sus resultados le comenta que desea realizar un último trabajo. En esta última tarea le solicita la agrupación de los datos obtenidos en la sección 1.2 utilizando K-means. Para esto usted deberá visualizar a través del método del codo el número óptimo de agrupaciones para los datos. \n",
    "\n",
    "**Hint:** Revisar las clases y encontrar el código.\n",
    "\n",
    "**To-Do**:\n",
    "\n",
    "- [ ] Pre-procesar los datos con el mismo preprocesamiento aplicado en 1.2\n",
    "- [ ] Utilizar el método del codo para obtener el número de clusters."
   ]
  },
  {
   "cell_type": "code",
   "execution_count": null,
   "metadata": {
    "id": "quMrPTciU30i"
   },
   "outputs": [],
   "source": [
    "### Código aquí ###"
   ]
  },
  {
   "cell_type": "markdown",
   "metadata": {
    "id": "4o-DvbnPZEJf"
   },
   "source": [
    "**Respuesta**:\n",
    "\n",
    "```\n",
    "Comente de resultados observados y si es posible mejorar los resultados.\n",
    "```"
   ]
  },
  {
   "cell_type": "markdown",
   "metadata": {
    "id": "Rg4ZMq8ezAH6"
   },
   "source": [
    "# Conclusión\n",
    "Eso ha sido todo para el lab de hoy, recuerden que el laboratorio tiene un plazo de entrega de una semana y que **los días de atraso no se pueden utilizar para entregas de lab, solo para tareas**. Cualquier duda del laboratorio, no duden en contactarnos por mail o U-cursos.\n",
    "\n",
    "<p align=\"center\">\n",
    "  <img src=\"https://media2.giphy.com/media/l1J3CbFgn5o7DGRuE/giphy.gif\">\n",
    "</p>"
   ]
  }
 ],
 "metadata": {
  "colab": {
   "collapsed_sections": [
    "LCOUC4jss148",
    "GtG74Cphq56p"
   ],
   "name": "Enunciado_Laboratorio3.ipynb",
   "provenance": [],
   "toc_visible": true
  },
  "kernelspec": {
   "display_name": "Python 3",
   "language": "python",
   "name": "python3"
  },
  "language_info": {
   "codemirror_mode": {
    "name": "ipython",
    "version": 3
   },
   "file_extension": ".py",
   "mimetype": "text/x-python",
   "name": "python",
   "nbconvert_exporter": "python",
   "pygments_lexer": "ipython3",
   "version": "3.8.5"
  },
  "toc": {
   "base_numbering": 1,
   "nav_menu": {},
   "number_sections": true,
   "sideBar": true,
   "skip_h1_title": true,
   "title_cell": "Tabla de Contenidos",
   "title_sidebar": "Contenidos",
   "toc_cell": false,
   "toc_position": {
    "height": "calc(100% - 180px)",
    "left": "10px",
    "top": "150px",
    "width": "241.867px"
   },
   "toc_section_display": true,
   "toc_window_display": true
  },
  "varInspector": {
   "cols": {
    "lenName": 16,
    "lenType": 16,
    "lenVar": 40
   },
   "kernels_config": {
    "python": {
     "delete_cmd_postfix": "",
     "delete_cmd_prefix": "del ",
     "library": "var_list.py",
     "varRefreshCmd": "print(var_dic_list())"
    },
    "r": {
     "delete_cmd_postfix": ") ",
     "delete_cmd_prefix": "rm(",
     "library": "var_list.r",
     "varRefreshCmd": "cat(var_dic_list()) "
    }
   },
   "types_to_exclude": [
    "module",
    "function",
    "builtin_function_or_method",
    "instance",
    "_Feature"
   ],
   "window_display": false
  }
 },
 "nbformat": 4,
 "nbformat_minor": 1
}
